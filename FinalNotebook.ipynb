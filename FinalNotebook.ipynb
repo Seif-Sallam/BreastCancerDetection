{
 "cells": [
  {
   "cell_type": "markdown",
   "id": "3465445f",
   "metadata": {},
   "source": [
    "## Preprocessing Sction.\n",
    "This section is inspired by the preprocessing of another computer scientist who was using the same dataset to do their own experiments on it.\n",
    "\n",
    "Link to their repositry: [TanushGoel / Breast-Histopathology-IDC-Classification](https://github.com/TanushGoel/Breast-Histopathology-IDC-Classification)"
   ]
  },
  {
   "cell_type": "code",
   "execution_count": 14,
   "id": "bbdaea35",
   "metadata": {},
   "outputs": [
    {
     "data": {
      "text/plain": [
       "[PhysicalDevice(name='/physical_device:GPU:0', device_type='GPU')]"
      ]
     },
     "execution_count": 14,
     "metadata": {},
     "output_type": "execute_result"
    }
   ],
   "source": [
    "# Testing that the machine recognizes the GPU\n",
    "import tensorflow as tf\n",
    "tf.config.list_physical_devices('GPU')"
   ]
  },
  {
   "cell_type": "code",
   "execution_count": 3,
   "id": "d5d72553",
   "metadata": {},
   "outputs": [],
   "source": [
    "import pandas as pd\n",
    "import numpy as np\n",
    "import matplotlib.image as mpimg\n",
    "import matplotlib.pyplot as plt\n",
    "from matplotlib import pyplot\n",
    "%matplotlib inline\n",
    "import seaborn as sns\n",
    "import os\n",
    "from os.path import isfile\n",
    "import tensorflow as tf\n",
    "from tensorflow import keras\n",
    "from tensorflow.python.keras import utils\n",
    "import itertools\n",
    "import shutil\n",
    "np.random.seed(42)\n",
    "from PIL import Image\n",
    "from PIL import ImageFile\n",
    "ImageFile.LOAD_TRUNCATED_IMAGES = True"
   ]
  },
  {
   "cell_type": "code",
   "execution_count": 4,
   "id": "2e1478b9",
   "metadata": {},
   "outputs": [
    {
     "name": "stdout",
     "output_type": "stream",
     "text": [
      "2.9.1\n",
      "2.9.0\n"
     ]
    }
   ],
   "source": [
    "print(tf.__version__)\n",
    "print(tf.keras.__version__)"
   ]
  },
  {
   "cell_type": "code",
   "execution_count": 5,
   "id": "513e91a7",
   "metadata": {},
   "outputs": [],
   "source": [
    "current_dir = os.getcwd()"
   ]
  },
  {
   "cell_type": "code",
   "execution_count": 8,
   "id": "0b631966",
   "metadata": {},
   "outputs": [
    {
     "name": "stdout",
     "output_type": "stream",
     "text": [
      "Data already exists. Skipped copying\n"
     ]
    }
   ],
   "source": [
    "\n",
    "# to get rid of changing the directory more than once\n",
    "os.chdir(current_dir)\n",
    "\n",
    "###### Mostly, taken from the other author's notebook. ######\n",
    "\n",
    "all_images_dir = 'all_images_dir'\n",
    "os.chdir('./breast-histopathology-images/')\n",
    "# copies all images from their seperate folders into the same \n",
    "# folder called all_images_dir\n",
    "\n",
    "\n",
    "# create a list of all patient id's\n",
    "# each patient id folder has 2 sub folders --> folder 0 and folder 1\n",
    "\n",
    "# Example:\n",
    "    # '10285'\n",
    "        # '0'\n",
    "        # '1'\n",
    "    \n",
    "all_pos_len = len(os.listdir('all_images_dir/1'))\n",
    "all_neg_len = len(os.listdir('all_images_dir/0'))\n",
    "\n",
    "\n",
    "if all_pos_len == 0 or all_neg_len == 0:\n",
    "    cur_dir = os.getcwd()\n",
    "    patient_list = os.listdir(cur_dir)\n",
    "\n",
    "    for patient in patient_list:\n",
    "\n",
    "      try:\n",
    "\n",
    "        path_0 = str(patient) + '/0'\n",
    "        path_1 = str(patient) + '/1'\n",
    "\n",
    "        # create a list of all files in folder 0\n",
    "        file_list_0 = os.listdir(path_0)\n",
    "        # create a list of list all file in folder 1\n",
    "        file_list_1 = os.listdir(path_1)\n",
    "\n",
    "        # move the 0 images to all_images_dir\n",
    "        for fname in file_list_0:\n",
    "\n",
    "            # source path to image\n",
    "            src = os.path.join(path_0, fname)\n",
    "            # destination path to image\n",
    "            dst = os.path.join(all_images_dir, '0', fname)\n",
    "            # copy the image from the source to the destination\n",
    "            shutil.copyfile(src, dst)\n",
    "\n",
    "        # move the 1 images to all_images_dir\n",
    "        for fname in file_list_1:\n",
    "\n",
    "            # source path to image\n",
    "            src = os.path.join(path_1, fname)\n",
    "            # destination path to image\n",
    "            dst = os.path.join(all_images_dir, '1', fname)\n",
    "            # copy the image from the source to the destination\n",
    "            shutil.copyfile(src, dst)\n",
    "\n",
    "      except:\n",
    "         print(patient, 'cannot be copied into proper folder')\n",
    "else:\n",
    "    print(\"Data already exists. Skipped copying\")"
   ]
  },
  {
   "cell_type": "code",
   "execution_count": 15,
   "id": "027eff5c",
   "metadata": {},
   "outputs": [
    {
     "name": "stdout",
     "output_type": "stream",
     "text": [
      "Total: 277524\n",
      "Positive: 78786\n",
      "Negative: 198738\n"
     ]
    }
   ],
   "source": [
    "# Check how many images are in each folder, to make sure we have correct data\n",
    "print('Total:', all_pos_len + all_neg_len)\n",
    "print('Positive:', all_pos_len)\n",
    "print('Negative:', all_neg_len)"
   ]
  },
  {
   "cell_type": "code",
   "execution_count": 12,
   "id": "79e2b365",
   "metadata": {},
   "outputs": [],
   "source": [
    "###### Mostly, taken from the other author's notebook. ######\n",
    "\n",
    "# Create a dataframe containing all the information\n",
    "\n",
    "image_list_1 = os.listdir(f'{all_images_dir}/1')\n",
    "df_data_1 = pd.DataFrame(image_list_1, columns=['image_id'])\n",
    "\n",
    "image_list_0 = os.listdir(f'{all_images_dir}/0')\n",
    "df_data_0 = pd.DataFrame(image_list_0, columns=['image_id'])\n",
    "\n",
    "df_data = pd.concat([df_data_1, df_data_0])"
   ]
  },
  {
   "cell_type": "code",
   "execution_count": 13,
   "id": "8719e632",
   "metadata": {},
   "outputs": [
    {
     "data": {
      "text/html": [
       "<div>\n",
       "<style scoped>\n",
       "    .dataframe tbody tr th:only-of-type {\n",
       "        vertical-align: middle;\n",
       "    }\n",
       "\n",
       "    .dataframe tbody tr th {\n",
       "        vertical-align: top;\n",
       "    }\n",
       "\n",
       "    .dataframe thead th {\n",
       "        text-align: right;\n",
       "    }\n",
       "</style>\n",
       "<table border=\"1\" class=\"dataframe\">\n",
       "  <thead>\n",
       "    <tr style=\"text-align: right;\">\n",
       "      <th></th>\n",
       "      <th>image_id</th>\n",
       "    </tr>\n",
       "  </thead>\n",
       "  <tbody>\n",
       "    <tr>\n",
       "      <th>0</th>\n",
       "      <td>13462_idx5_x751_y1351_class1.png</td>\n",
       "    </tr>\n",
       "    <tr>\n",
       "      <th>1</th>\n",
       "      <td>9181_idx5_x2651_y651_class1.png</td>\n",
       "    </tr>\n",
       "    <tr>\n",
       "      <th>2</th>\n",
       "      <td>13687_idx5_x2351_y701_class1.png</td>\n",
       "    </tr>\n",
       "    <tr>\n",
       "      <th>3</th>\n",
       "      <td>13916_idx5_x1101_y1101_class1.png</td>\n",
       "    </tr>\n",
       "    <tr>\n",
       "      <th>4</th>\n",
       "      <td>10302_idx5_x2101_y151_class1.png</td>\n",
       "    </tr>\n",
       "  </tbody>\n",
       "</table>\n",
       "</div>"
      ],
      "text/plain": [
       "                            image_id\n",
       "0   13462_idx5_x751_y1351_class1.png\n",
       "1    9181_idx5_x2651_y651_class1.png\n",
       "2   13687_idx5_x2351_y701_class1.png\n",
       "3  13916_idx5_x1101_y1101_class1.png\n",
       "4   10302_idx5_x2101_y151_class1.png"
      ]
     },
     "execution_count": 13,
     "metadata": {},
     "output_type": "execute_result"
    }
   ],
   "source": [
    "# Validating that the data now exists in the dataframe\n",
    "df_data.head()"
   ]
  },
  {
   "cell_type": "code",
   "execution_count": 16,
   "id": "c9846dfd",
   "metadata": {},
   "outputs": [
    {
     "data": {
      "text/html": [
       "<div>\n",
       "<style scoped>\n",
       "    .dataframe tbody tr th:only-of-type {\n",
       "        vertical-align: middle;\n",
       "    }\n",
       "\n",
       "    .dataframe tbody tr th {\n",
       "        vertical-align: top;\n",
       "    }\n",
       "\n",
       "    .dataframe thead th {\n",
       "        text-align: right;\n",
       "    }\n",
       "</style>\n",
       "<table border=\"1\" class=\"dataframe\">\n",
       "  <thead>\n",
       "    <tr style=\"text-align: right;\">\n",
       "      <th></th>\n",
       "      <th>image_id</th>\n",
       "      <th>patient_id</th>\n",
       "      <th>target</th>\n",
       "    </tr>\n",
       "  </thead>\n",
       "  <tbody>\n",
       "    <tr>\n",
       "      <th>0</th>\n",
       "      <td>13462_idx5_x751_y1351_class1.png</td>\n",
       "      <td>13462</td>\n",
       "      <td>1</td>\n",
       "    </tr>\n",
       "    <tr>\n",
       "      <th>1</th>\n",
       "      <td>9181_idx5_x2651_y651_class1.png</td>\n",
       "      <td>9181</td>\n",
       "      <td>1</td>\n",
       "    </tr>\n",
       "    <tr>\n",
       "      <th>2</th>\n",
       "      <td>13687_idx5_x2351_y701_class1.png</td>\n",
       "      <td>13687</td>\n",
       "      <td>1</td>\n",
       "    </tr>\n",
       "    <tr>\n",
       "      <th>3</th>\n",
       "      <td>13916_idx5_x1101_y1101_class1.png</td>\n",
       "      <td>13916</td>\n",
       "      <td>1</td>\n",
       "    </tr>\n",
       "    <tr>\n",
       "      <th>4</th>\n",
       "      <td>10302_idx5_x2101_y151_class1.png</td>\n",
       "      <td>10302</td>\n",
       "      <td>1</td>\n",
       "    </tr>\n",
       "  </tbody>\n",
       "</table>\n",
       "</div>"
      ],
      "text/plain": [
       "                            image_id patient_id target\n",
       "0   13462_idx5_x751_y1351_class1.png      13462      1\n",
       "1    9181_idx5_x2651_y651_class1.png       9181      1\n",
       "2   13687_idx5_x2351_y701_class1.png      13687      1\n",
       "3  13916_idx5_x1101_y1101_class1.png      13916      1\n",
       "4   10302_idx5_x2101_y151_class1.png      10302      1"
      ]
     },
     "execution_count": 16,
     "metadata": {},
     "output_type": "execute_result"
    }
   ],
   "source": [
    "###### Mostly, taken from the other author's notebook. ######\n",
    "\n",
    "# Define Helper Functions\n",
    "\n",
    "# Each file name has this format:\n",
    "# '14211_idx5_x2401_y1301_class1.png'\n",
    "\n",
    "def extract_patient_id(x):\n",
    "    # split into a list\n",
    "    a = x.split('_')\n",
    "    # the id is the first index in the list\n",
    "    patient_id = a[0]\n",
    "    \n",
    "    return patient_id\n",
    "\n",
    "def extract_target(x):\n",
    "    # split into a list\n",
    "    a = x.split('_')\n",
    "    # the target is part of the string in index 4\n",
    "    b = a[4]\n",
    "    # the ytarget i.e. 1 or 2 is the 5th index of the string --> class1\n",
    "    target = b[5]\n",
    "    \n",
    "    return target\n",
    "\n",
    "# extract the patient id\n",
    "\n",
    "# create a new column called 'patient_id'\n",
    "df_data['patient_id'] = df_data['image_id'].apply(extract_patient_id)\n",
    "# create a new column called 'target'\n",
    "df_data['target'] = df_data['image_id'].apply(extract_target)\n",
    "\n",
    "df_data.head()"
   ]
  },
  {
   "cell_type": "markdown",
   "id": "ba9b955c",
   "metadata": {},
   "source": [
    "### The class distribution of the dataset.\n",
    "There are more negative cases than the positive ones. This makes the dataset imbalanced since the nature of the problem doesn't require that the number of negative cases to be more or less than the positive ones."
   ]
  },
  {
   "cell_type": "code",
   "execution_count": 31,
   "id": "f559ba65",
   "metadata": {},
   "outputs": [
    {
     "data": {
      "text/plain": [
       "Text(0.5, 1.0, 'Class Distributions')"
      ]
     },
     "execution_count": 31,
     "metadata": {},
     "output_type": "execute_result"
    },
    {
     "data": {
      "image/png": "[encoded data removed]",
      "text/plain": [
       "<Figure size 640x480 with 1 Axes>"
      ]
     },
     "metadata": {},
     "output_type": "display_data"
    }
   ],
   "source": [
    "# Showing the class distribution of the dataset, We find that the negative is way more than the positives.\n",
    "sns.countplot(x=df_data.target).set_title(\"Class Distributions\")"
   ]
  },
  {
   "cell_type": "markdown",
   "id": "20c06611",
   "metadata": {},
   "source": [
    "# Train / Test / Validation"
   ]
  },
  {
   "cell_type": "code",
   "execution_count": 34,
   "id": "e4d83c84",
   "metadata": {},
   "outputs": [
    {
     "name": "stdout",
     "output_type": "stream",
     "text": [
      "Valid: 1000\n",
      "Test: 10000\n"
     ]
    }
   ],
   "source": [
    "from sklearn.model_selection import train_test_split\n",
    "\n",
    "y = df_data['target']\n",
    "\n",
    "_, df_test = train_test_split(df_data, test_size=0.03603, random_state=42, stratify=y)\n",
    "\n",
    "_, df_val = train_test_split(df_data, test_size=0.0036025, random_state=42, stratify=y)\n",
    "\n",
    "print('Valid:', df_val.shape[0])\n",
    "print('Test:', df_test.shape[0])"
   ]
  },
  {
   "cell_type": "code",
   "execution_count": 35,
   "id": "8b9c6fa7",
   "metadata": {},
   "outputs": [
    {
     "data": {
      "text/plain": [
       "Text(0.5, 1.0, 'Valid Class Distributions')"
      ]
     },
     "execution_count": 35,
     "metadata": {},
     "output_type": "execute_result"
    },
    {
     "data": {
      "image/png": "[encoded data removed]",
      "text/plain": [
       "<Figure size 640x480 with 1 Axes>"
      ]
     },
     "metadata": {},
     "output_type": "display_data"
    }
   ],
   "source": [
    "sns.countplot(x=df_val['target']).set_title('Valid Class Distributions')"
   ]
  },
  {
   "cell_type": "code",
   "execution_count": 36,
   "id": "dddefd19",
   "metadata": {},
   "outputs": [
    {
     "data": {
      "text/plain": [
       "Text(0.5, 1.0, 'Test Class Distributions')"
      ]
     },
     "execution_count": 36,
     "metadata": {},
     "output_type": "execute_result"
    },
    {
     "data": {
      "image/png": "[encoded data removed]",
      "text/plain": [
       "<Figure size 640x480 with 1 Axes>"
      ]
     },
     "metadata": {},
     "output_type": "display_data"
    }
   ],
   "source": [
    "sns.countplot(x=df_test['target']).set_title('Test Class Distributions')"
   ]
  },
  {
   "cell_type": "code",
   "execution_count": 41,
   "id": "546d50da",
   "metadata": {},
   "outputs": [
    {
     "name": "stdout",
     "output_type": "stream",
     "text": [
      "Train: 267524\n",
      "Valid: 1000\n",
      "Test: 10000\n"
     ]
    }
   ],
   "source": [
    "# Improved the speed of the identification through using a dictionary... Dramatically.\n",
    "val_dict = df_val.set_index('image_id').T.to_dict('list')\n",
    "test_dict = df_test.set_index('image_id').T.to_dict('list')\n",
    "\n",
    "def identify_train_val_and_test_rows(x):\n",
    "    if str(x) in val_dict:\n",
    "        return 'val'\n",
    "    elif str(x) in test_dict:\n",
    "        return 'test'\n",
    "    else:\n",
    "        return 'train'\n",
    "\n",
    "# create a new colum that is a copy of the image_id column\n",
    "df_data['train_or_val_or_test'] = df_data['image_id']\n",
    "# apply the function to this new column\n",
    "df_data['train_or_val_or_test'] = df_data['train_or_val_or_test'].apply(identify_train_val_and_test_rows)\n",
    "   \n",
    "# filter out train rows\n",
    "df_train = df_data[df_data['train_or_val_or_test'] == 'train']\n",
    "\n",
    "print('Train:', len(df_train))\n",
    "print('Valid:', len(df_val))\n",
    "print('Test:', len(df_test))"
   ]
  },
  {
   "cell_type": "code",
   "execution_count": 42,
   "id": "e4ae3549",
   "metadata": {},
   "outputs": [
    {
     "data": {
      "text/plain": [
       "Text(0.5, 1.0, 'Train Class Distributions')"
      ]
     },
     "execution_count": 42,
     "metadata": {},
     "output_type": "execute_result"
    },
    {
     "data": {
      "image/png": "[encoded data removed]",
      "text/plain": [
       "<Figure size 640x480 with 1 Axes>"
      ]
     },
     "metadata": {},
     "output_type": "display_data"
    }
   ],
   "source": [
    "sns.countplot(x=df_train['target']).set_title('Train Class Distributions')"
   ]
  },
  {
   "cell_type": "code",
   "execution_count": 43,
   "id": "2ee44377",
   "metadata": {},
   "outputs": [
    {
     "data": {
      "text/html": [
       "<div>\n",
       "<style scoped>\n",
       "    .dataframe tbody tr th:only-of-type {\n",
       "        vertical-align: middle;\n",
       "    }\n",
       "\n",
       "    .dataframe tbody tr th {\n",
       "        vertical-align: top;\n",
       "    }\n",
       "\n",
       "    .dataframe thead th {\n",
       "        text-align: right;\n",
       "    }\n",
       "</style>\n",
       "<table border=\"1\" class=\"dataframe\">\n",
       "  <thead>\n",
       "    <tr style=\"text-align: right;\">\n",
       "      <th></th>\n",
       "      <th>patient_id</th>\n",
       "      <th>target</th>\n",
       "      <th>train_or_val_or_test</th>\n",
       "    </tr>\n",
       "    <tr>\n",
       "      <th>image_id</th>\n",
       "      <th></th>\n",
       "      <th></th>\n",
       "      <th></th>\n",
       "    </tr>\n",
       "  </thead>\n",
       "  <tbody>\n",
       "    <tr>\n",
       "      <th>13462_idx5_x751_y1351_class1.png</th>\n",
       "      <td>13462</td>\n",
       "      <td>1</td>\n",
       "      <td>train</td>\n",
       "    </tr>\n",
       "    <tr>\n",
       "      <th>9181_idx5_x2651_y651_class1.png</th>\n",
       "      <td>9181</td>\n",
       "      <td>1</td>\n",
       "      <td>train</td>\n",
       "    </tr>\n",
       "    <tr>\n",
       "      <th>13687_idx5_x2351_y701_class1.png</th>\n",
       "      <td>13687</td>\n",
       "      <td>1</td>\n",
       "      <td>train</td>\n",
       "    </tr>\n",
       "    <tr>\n",
       "      <th>13916_idx5_x1101_y1101_class1.png</th>\n",
       "      <td>13916</td>\n",
       "      <td>1</td>\n",
       "      <td>train</td>\n",
       "    </tr>\n",
       "    <tr>\n",
       "      <th>10302_idx5_x2101_y151_class1.png</th>\n",
       "      <td>10302</td>\n",
       "      <td>1</td>\n",
       "      <td>train</td>\n",
       "    </tr>\n",
       "  </tbody>\n",
       "</table>\n",
       "</div>"
      ],
      "text/plain": [
       "                                  patient_id target train_or_val_or_test\n",
       "image_id                                                                \n",
       "13462_idx5_x751_y1351_class1.png       13462      1                train\n",
       "9181_idx5_x2651_y651_class1.png         9181      1                train\n",
       "13687_idx5_x2351_y701_class1.png       13687      1                train\n",
       "13916_idx5_x1101_y1101_class1.png      13916      1                train\n",
       "10302_idx5_x2101_y151_class1.png       10302      1                train"
      ]
     },
     "execution_count": 43,
     "metadata": {},
     "output_type": "execute_result"
    }
   ],
   "source": [
    "# Set the image_id as the index in df_data\n",
    "df_data.set_index('image_id', inplace=True)\n",
    "df_data.head()"
   ]
  },
  {
   "cell_type": "code",
   "execution_count": 48,
   "id": "fcad2602",
   "metadata": {},
   "outputs": [],
   "source": [
    "# Make Train, Valid, and Test Folders\n",
    "\n",
    "\n",
    "# Create folders within the train, valid, and test folders\n",
    "# Inside each folder we create seperate folders for each class\n",
    "\n",
    "# train_dir\n",
    "train_dir = os.path.join('train_dir')\n",
    "if not os.path.isdir(train_dir):\n",
    "    os.mkdir(train_dir)\n",
    "    # create new folders inside train_dir\n",
    "    os.mkdir(os.path.join(train_dir, '1'))\n",
    "    os.mkdir(os.path.join(train_dir, '0'))\n",
    "    \n",
    "# val_dir\n",
    "val_dir = os.path.join('val_dir')\n",
    "if not os.path.isdir(val_dir):\n",
    "    os.mkdir(val_dir)\n",
    "    # Create new folders inside val_dir\n",
    "    os.mkdir(os.path.join(val_dir, '1'))\n",
    "    os.mkdir(os.path.join(val_dir, '0'))\n",
    "\n",
    "# test_dir\n",
    "test_dir = os.path.join('test_dir')\n",
    "if not os.path.isdir(test_dir):\n",
    "    os.mkdir(test_dir)\n",
    "    # Create new folders inside test_dir\n",
    "    os.mkdir(os.path.join(test_dir, '1'))\n",
    "    os.mkdir(os.path.join(test_dir, '0'))"
   ]
  },
  {
   "cell_type": "code",
   "execution_count": 51,
   "id": "a59a2024",
   "metadata": {},
   "outputs": [
    {
     "name": "stdout",
     "output_type": "stream",
     "text": [
      "Data already exists (Hopefully)\n"
     ]
    }
   ],
   "source": [
    "if len(os.listdir(train_dir)) == 0:\n",
    "    # Get a list of train, val, and test images\n",
    "    train_list = list(df_train['image_id'])\n",
    "    val_list = list(df_val['image_id'])\n",
    "    test_list = list(df_test['image_id'])\n",
    "\n",
    "    # Transfer the train images\n",
    "\n",
    "    for image in train_list:\n",
    "\n",
    "        pat_id = df_data.loc[image,'patient_id']\n",
    "        label = df_data.loc[image,'target']\n",
    "        src = pat_id + '/' + label + '/' + image\n",
    "\n",
    "        # destination path to image\n",
    "        dst = os.path.join(train_dir, label, image)\n",
    "        # copy the image from the source to the destination\n",
    "        shutil.copyfile(src, dst)\n",
    "\n",
    "\n",
    "    # Transfer the val images\n",
    "\n",
    "    for image in val_list:\n",
    "\n",
    "        pat_id = df_data.loc[image,'patient_id']\n",
    "        label = df_data.loc[image,'target']\n",
    "        src = pat_id + '/' + label + '/' + image\n",
    "\n",
    "        # destination path to image\n",
    "        dst = os.path.join(val_dir, label, image)\n",
    "        # copy the image from the source to the destination\n",
    "        shutil.copyfile(src, dst)\n",
    "\n",
    "\n",
    "    # Transfer the test images\n",
    "    for image in test_list:\n",
    "\n",
    "        pat_id = df_data.loc[image,'patient_id']\n",
    "        label = df_data.loc[image,'target']\n",
    "        src = pat_id + '/' + label + '/' + image\n",
    "\n",
    "        # destination path to image\n",
    "        dst = os.path.join(test_dir, label, image)\n",
    "        # copy the image from the source to the destination\n",
    "        shutil.copyfile(src, dst)\n",
    "else:\n",
    "    print(\"Data already exists (Hopefully)\")"
   ]
  },
  {
   "cell_type": "code",
   "execution_count": 52,
   "id": "7951b68d",
   "metadata": {},
   "outputs": [
    {
     "name": "stdout",
     "output_type": "stream",
     "text": [
      "Train Total: 383171\n",
      "Valid Total: 1000\n",
      "Test Total: 10000 \n",
      "\n",
      "Train Negative: 191577\n",
      "Train Positive: 191594 \n",
      "\n",
      "Valid Negative: 716\n",
      "Valid Positive: 284 \n",
      "\n",
      "Test Negative: 7161\n",
      "Test Positive: 2839\n"
     ]
    }
   ],
   "source": [
    "print('Train Total:', len(os.listdir('train_dir/1'))+len(os.listdir('train_dir/0')))\n",
    "print('Valid Total:', len(os.listdir('val_dir/1'))+len(os.listdir('val_dir/0')))\n",
    "print('Test Total:', len(os.listdir('test_dir/1'))+len(os.listdir('test_dir/0')), '\\n')\n",
    "\n",
    "print('Train Negative:', len(os.listdir('train_dir/0')))\n",
    "print('Train Positive:', len(os.listdir('train_dir/1')), '\\n')\n",
    "\n",
    "print('Valid Negative:', len(os.listdir('val_dir/0')))\n",
    "print('Valid Positive:', len(os.listdir('val_dir/1')), '\\n')\n",
    "\n",
    "print('Test Negative:', len(os.listdir('test_dir/0')))\n",
    "print('Test Positive:', len(os.listdir('test_dir/1')))"
   ]
  },
  {
   "cell_type": "markdown",
   "id": "331b39fb",
   "metadata": {},
   "source": [
    "# Agumentation\n"
   ]
  },
  {
   "cell_type": "code",
   "execution_count": null,
   "id": "dfbe4472",
   "metadata": {},
   "outputs": [],
   "source": []
  },
  {
   "cell_type": "markdown",
   "id": "ad61c6ba",
   "metadata": {},
   "source": [
    "### Create train / test / validation batches"
   ]
  },
  {
   "cell_type": "code",
   "execution_count": null,
   "id": "e7498524",
   "metadata": {},
   "outputs": [],
   "source": []
  },
  {
   "cell_type": "markdown",
   "id": "37db5d9b",
   "metadata": {},
   "source": [
    "## Train Baseline Model (VGG19)"
   ]
  },
  {
   "cell_type": "code",
   "execution_count": 56,
   "id": "987510ca",
   "metadata": {},
   "outputs": [
    {
     "name": "stdout",
     "output_type": "stream",
     "text": [
      "Downloading data from https://storage.googleapis.com/tensorflow/keras-applications/vgg19/vgg19_weights_tf_dim_ordering_tf_kernels_notop.h5\n",
      "80134624/80134624 [==============================] - 46s 1us/step\n"
     ]
    }
   ],
   "source": [
    "from tensorflow.keras.applications.vgg19 import VGG19\n",
    "vgg = tf.keras.applications.vgg19.VGG19(\n",
    "    include_top=False,\n",
    "    weights='imagenet',\n",
    "    input_shape=(244, 244, 3)\n",
    ")\n"
   ]
  },
  {
   "cell_type": "code",
   "execution_count": 57,
   "id": "a0735622",
   "metadata": {},
   "outputs": [],
   "source": [
    "for layer in vgg.layers:\n",
    "  layer.trainable = False"
   ]
  },
  {
   "cell_type": "code",
   "execution_count": 59,
   "id": "6bd1028a",
   "metadata": {},
   "outputs": [],
   "source": [
    "x = tf.keras.layers.Flatten()(vgg.output)  # One flatten layer"
   ]
  },
  {
   "cell_type": "code",
   "execution_count": 60,
   "id": "f186cc2c",
   "metadata": {},
   "outputs": [],
   "source": [
    "prediction = tf.keras.layers.Dense(2, activation='softmax')(x) # one softmax layer"
   ]
  },
  {
   "cell_type": "code",
   "execution_count": 62,
   "id": "2687c003",
   "metadata": {},
   "outputs": [],
   "source": [
    "model = tf.keras.Model(inputs=vgg.input, outputs=prediction)   # Final Model"
   ]
  },
  {
   "cell_type": "code",
   "execution_count": 63,
   "id": "89832e2a",
   "metadata": {},
   "outputs": [
    {
     "name": "stdout",
     "output_type": "stream",
     "text": [
      "Model: \"model\"\n",
      "_________________________________________________________________\n",
      " Layer (type)                Output Shape              Param #   \n",
      "=================================================================\n",
      " input_2 (InputLayer)        [(None, 244, 244, 3)]     0         \n",
      "                                                                 \n",
      " block1_conv1 (Conv2D)       (None, 244, 244, 64)      1792      \n",
      "                                                                 \n",
      " block1_conv2 (Conv2D)       (None, 244, 244, 64)      36928     \n",
      "                                                                 \n",
      " block1_pool (MaxPooling2D)  (None, 122, 122, 64)      0         \n",
      "                                                                 \n",
      " block2_conv1 (Conv2D)       (None, 122, 122, 128)     73856     \n",
      "                                                                 \n",
      " block2_conv2 (Conv2D)       (None, 122, 122, 128)     147584    \n",
      "                                                                 \n",
      " block2_pool (MaxPooling2D)  (None, 61, 61, 128)       0         \n",
      "                                                                 \n",
      " block3_conv1 (Conv2D)       (None, 61, 61, 256)       295168    \n",
      "                                                                 \n",
      " block3_conv2 (Conv2D)       (None, 61, 61, 256)       590080    \n",
      "                                                                 \n",
      " block3_conv3 (Conv2D)       (None, 61, 61, 256)       590080    \n",
      "                                                                 \n",
      " block3_conv4 (Conv2D)       (None, 61, 61, 256)       590080    \n",
      "                                                                 \n",
      " block3_pool (MaxPooling2D)  (None, 30, 30, 256)       0         \n",
      "                                                                 \n",
      " block4_conv1 (Conv2D)       (None, 30, 30, 512)       1180160   \n",
      "                                                                 \n",
      " block4_conv2 (Conv2D)       (None, 30, 30, 512)       2359808   \n",
      "                                                                 \n",
      " block4_conv3 (Conv2D)       (None, 30, 30, 512)       2359808   \n",
      "                                                                 \n",
      " block4_conv4 (Conv2D)       (None, 30, 30, 512)       2359808   \n",
      "                                                                 \n",
      " block4_pool (MaxPooling2D)  (None, 15, 15, 512)       0         \n",
      "                                                                 \n",
      " block5_conv1 (Conv2D)       (None, 15, 15, 512)       2359808   \n",
      "                                                                 \n",
      " block5_conv2 (Conv2D)       (None, 15, 15, 512)       2359808   \n",
      "                                                                 \n",
      " block5_conv3 (Conv2D)       (None, 15, 15, 512)       2359808   \n",
      "                                                                 \n",
      " block5_conv4 (Conv2D)       (None, 15, 15, 512)       2359808   \n",
      "                                                                 \n",
      " block5_pool (MaxPooling2D)  (None, 7, 7, 512)         0         \n",
      "                                                                 \n",
      " flatten (Flatten)           (None, 25088)             0         \n",
      "                                                                 \n",
      " dense (Dense)               (None, 2)                 50178     \n",
      "                                                                 \n",
      "=================================================================\n",
      "Total params: 20,074,562\n",
      "Trainable params: 50,178\n",
      "Non-trainable params: 20,024,384\n",
      "_________________________________________________________________\n"
     ]
    }
   ],
   "source": [
    "model.summary()"
   ]
  },
  {
   "cell_type": "code",
   "execution_count": null,
   "id": "7b725ca8",
   "metadata": {},
   "outputs": [],
   "source": [
    "# This needs to be checked\n",
    "# We need to know which data to be added exactly. We want the Image Data Generator function but without any agumentation (for now)\n",
    "# did not have time to check exactly how. \n",
    "# Try to compare with the paper stuff. Hopefully we will be able to find something.\n",
    "from tensorflow.keras.callbacks import ModelCheckpoint\n",
    "checkpointer_benchmark = ModelCheckpoint(filepath='breast_histopathology_bench_best.hdf5', verbose=1, save_best_only=True)\n",
    "\n",
    "model.compile(loss='categorical_crossentropy', optimizer='adam', metrics=['accuracy']) \n",
    "history = model.fit(training_set, validation_data=validation_set, epochs=20, batch_size=32)"
   ]
  }
 ],
 "metadata": {
  "kernelspec": {
   "display_name": "Python 3 (ipykernel)",
   "language": "python",
   "name": "python3"
  },
  "language_info": {
   "codemirror_mode": {
    "name": "ipython",
    "version": 3
   },
   "file_extension": ".py",
   "mimetype": "text/x-python",
   "name": "python",
   "nbconvert_exporter": "python",
   "pygments_lexer": "ipython3",
   "version": "3.8.13"
  }
 },
 "nbformat": 4,
 "nbformat_minor": 5
}
