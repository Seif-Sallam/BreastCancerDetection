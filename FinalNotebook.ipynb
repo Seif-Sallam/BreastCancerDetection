{
 "cells": [
  {
   "cell_type": "markdown",
   "id": "72c54894",
   "metadata": {},
   "source": [
    "## Preprocessing Sction.\n",
    "This section is inspired by the preprocessing of another computer scientist who was using the same dataset to do their own experiments on it.\n",
    "\n",
    "Link to their repositry: [TanushGoel / Breast-Histopathology-IDC-Classification](https://github.com/TanushGoel/Breast-Histopathology-IDC-Classification)"
   ]
  },
  {
   "cell_type": "code",
   "execution_count": 1,
   "id": "de1f4b8e",
   "metadata": {},
   "outputs": [
    {
     "data": {
      "text/plain": [
       "[PhysicalDevice(name='/physical_device:GPU:0', device_type='GPU')]"
      ]
     },
     "execution_count": 1,
     "metadata": {},
     "output_type": "execute_result"
    }
   ],
   "source": [
    "# Testing that the machine recognizes the GPU\n",
    "import tensorflow as tf\n",
    "tf.config.list_physical_devices('GPU')"
   ]
  },
  {
   "cell_type": "code",
   "execution_count": 2,
   "id": "c239eb01",
   "metadata": {},
   "outputs": [],
   "source": [
    "import pandas as pd\n",
    "import numpy as np\n",
    "import matplotlib.image as mpimg\n",
    "import matplotlib.pyplot as plt\n",
    "from matplotlib import pyplot\n",
    "%matplotlib inline\n",
    "import seaborn as sns\n",
    "import os\n",
    "from os.path import isfile\n",
    "import tensorflow as tf\n",
    "from tensorflow import keras\n",
    "from tensorflow.python.keras import utils\n",
    "import itertools\n",
    "import shutil\n",
    "np.random.seed(42)\n",
    "from PIL import Image\n",
    "from PIL import ImageFile\n",
    "ImageFile.LOAD_TRUNCATED_IMAGES = True"
   ]
  },
  {
   "cell_type": "code",
   "execution_count": 3,
   "id": "fdec79e9",
   "metadata": {},
   "outputs": [
    {
     "name": "stdout",
     "output_type": "stream",
     "text": [
      "2.9.1\n",
      "2.9.0\n"
     ]
    }
   ],
   "source": [
    "print(tf.__version__)\n",
    "print(tf.keras.__version__)"
   ]
  },
  {
   "cell_type": "code",
   "execution_count": 4,
   "id": "710d1f1d",
   "metadata": {},
   "outputs": [],
   "source": [
    "current_dir = os.getcwd()"
   ]
  },
  {
   "cell_type": "code",
   "execution_count": 5,
   "id": "c040fc94",
   "metadata": {},
   "outputs": [
    {
     "name": "stdout",
     "output_type": "stream",
     "text": [
      "Data already exists. Skipped copying\n"
     ]
    }
   ],
   "source": [
    "\n",
    "# to get rid of changing the directory more than once\n",
    "os.chdir(current_dir)\n",
    "\n",
    "###### Mostly, taken from the other author's notebook. ######\n",
    "\n",
    "all_images_dir = 'all_images_dir'\n",
    "os.chdir('./breast-histopathology-images/')\n",
    "# copies all images from their seperate folders into the same \n",
    "# folder called all_images_dir\n",
    "\n",
    "\n",
    "# create a list of all patient id's\n",
    "# each patient id folder has 2 sub folders --> folder 0 and folder 1\n",
    "\n",
    "# Example:\n",
    "    # '10285'\n",
    "        # '0'\n",
    "        # '1'\n",
    "    \n",
    "all_pos_len = len(os.listdir('all_images_dir/1'))\n",
    "all_neg_len = len(os.listdir('all_images_dir/0'))\n",
    "\n",
    "\n",
    "if all_pos_len == 0 or all_neg_len == 0:\n",
    "    cur_dir = os.getcwd()\n",
    "    patient_list = os.listdir(cur_dir)\n",
    "\n",
    "    for patient in patient_list:\n",
    "\n",
    "      try:\n",
    "\n",
    "        path_0 = str(patient) + '/0'\n",
    "        path_1 = str(patient) + '/1'\n",
    "\n",
    "        # create a list of all files in folder 0\n",
    "        file_list_0 = os.listdir(path_0)\n",
    "        # create a list of list all file in folder 1\n",
    "        file_list_1 = os.listdir(path_1)\n",
    "\n",
    "        # move the 0 images to all_images_dir\n",
    "        for fname in file_list_0:\n",
    "\n",
    "            # source path to image\n",
    "            src = os.path.join(path_0, fname)\n",
    "            # destination path to image\n",
    "            dst = os.path.join(all_images_dir, '0', fname)\n",
    "            # copy the image from the source to the destination\n",
    "            shutil.copyfile(src, dst)\n",
    "\n",
    "        # move the 1 images to all_images_dir\n",
    "        for fname in file_list_1:\n",
    "\n",
    "            # source path to image\n",
    "            src = os.path.join(path_1, fname)\n",
    "            # destination path to image\n",
    "            dst = os.path.join(all_images_dir, '1', fname)\n",
    "            # copy the image from the source to the destination\n",
    "            shutil.copyfile(src, dst)\n",
    "\n",
    "      except:\n",
    "         print(patient, 'cannot be copied into proper folder')\n",
    "else:\n",
    "    print(\"Data already exists. Skipped copying\")"
   ]
  },
  {
   "cell_type": "code",
   "execution_count": 6,
   "id": "470d64a2",
   "metadata": {},
   "outputs": [
    {
     "name": "stdout",
     "output_type": "stream",
     "text": [
      "Total: 277524\n",
      "Positive: 78786\n",
      "Negative: 198738\n"
     ]
    }
   ],
   "source": [
    "# Check how many images are in each folder, to make sure we have correct data\n",
    "print('Total:', all_pos_len + all_neg_len)\n",
    "print('Positive:', all_pos_len)\n",
    "print('Negative:', all_neg_len)"
   ]
  },
  {
   "cell_type": "code",
   "execution_count": 7,
   "id": "ff72b0ba",
   "metadata": {},
   "outputs": [],
   "source": [
    "###### Mostly, taken from the other author's notebook. ######\n",
    "\n",
    "# Create a dataframe containing all the information\n",
    "\n",
    "image_list_1 = os.listdir(f'{all_images_dir}/1')\n",
    "df_data_1 = pd.DataFrame(image_list_1, columns=['image_id'])\n",
    "\n",
    "image_list_0 = os.listdir(f'{all_images_dir}/0')\n",
    "df_data_0 = pd.DataFrame(image_list_0, columns=['image_id'])\n",
    "\n",
    "df_data = pd.concat([df_data_1, df_data_0])"
   ]
  },
  {
   "cell_type": "code",
   "execution_count": 8,
   "id": "6397120d",
   "metadata": {},
   "outputs": [
    {
     "data": {
      "text/html": [
       "<div>\n",
       "<style scoped>\n",
       "    .dataframe tbody tr th:only-of-type {\n",
       "        vertical-align: middle;\n",
       "    }\n",
       "\n",
       "    .dataframe tbody tr th {\n",
       "        vertical-align: top;\n",
       "    }\n",
       "\n",
       "    .dataframe thead th {\n",
       "        text-align: right;\n",
       "    }\n",
       "</style>\n",
       "<table border=\"1\" class=\"dataframe\">\n",
       "  <thead>\n",
       "    <tr style=\"text-align: right;\">\n",
       "      <th></th>\n",
       "      <th>image_id</th>\n",
       "    </tr>\n",
       "  </thead>\n",
       "  <tbody>\n",
       "    <tr>\n",
       "      <th>0</th>\n",
       "      <td>13462_idx5_x751_y1351_class1.png</td>\n",
       "    </tr>\n",
       "    <tr>\n",
       "      <th>1</th>\n",
       "      <td>9181_idx5_x2651_y651_class1.png</td>\n",
       "    </tr>\n",
       "    <tr>\n",
       "      <th>2</th>\n",
       "      <td>13687_idx5_x2351_y701_class1.png</td>\n",
       "    </tr>\n",
       "    <tr>\n",
       "      <th>3</th>\n",
       "      <td>13916_idx5_x1101_y1101_class1.png</td>\n",
       "    </tr>\n",
       "    <tr>\n",
       "      <th>4</th>\n",
       "      <td>10302_idx5_x2101_y151_class1.png</td>\n",
       "    </tr>\n",
       "  </tbody>\n",
       "</table>\n",
       "</div>"
      ],
      "text/plain": [
       "                            image_id\n",
       "0   13462_idx5_x751_y1351_class1.png\n",
       "1    9181_idx5_x2651_y651_class1.png\n",
       "2   13687_idx5_x2351_y701_class1.png\n",
       "3  13916_idx5_x1101_y1101_class1.png\n",
       "4   10302_idx5_x2101_y151_class1.png"
      ]
     },
     "execution_count": 8,
     "metadata": {},
     "output_type": "execute_result"
    }
   ],
   "source": [
    "# Validating that the data now exists in the dataframe\n",
    "df_data.head()"
   ]
  },
  {
   "cell_type": "code",
   "execution_count": 9,
   "id": "580711e1",
   "metadata": {},
   "outputs": [
    {
     "data": {
      "text/html": [
       "<div>\n",
       "<style scoped>\n",
       "    .dataframe tbody tr th:only-of-type {\n",
       "        vertical-align: middle;\n",
       "    }\n",
       "\n",
       "    .dataframe tbody tr th {\n",
       "        vertical-align: top;\n",
       "    }\n",
       "\n",
       "    .dataframe thead th {\n",
       "        text-align: right;\n",
       "    }\n",
       "</style>\n",
       "<table border=\"1\" class=\"dataframe\">\n",
       "  <thead>\n",
       "    <tr style=\"text-align: right;\">\n",
       "      <th></th>\n",
       "      <th>image_id</th>\n",
       "      <th>patient_id</th>\n",
       "      <th>target</th>\n",
       "    </tr>\n",
       "  </thead>\n",
       "  <tbody>\n",
       "    <tr>\n",
       "      <th>0</th>\n",
       "      <td>13462_idx5_x751_y1351_class1.png</td>\n",
       "      <td>13462</td>\n",
       "      <td>1</td>\n",
       "    </tr>\n",
       "    <tr>\n",
       "      <th>1</th>\n",
       "      <td>9181_idx5_x2651_y651_class1.png</td>\n",
       "      <td>9181</td>\n",
       "      <td>1</td>\n",
       "    </tr>\n",
       "    <tr>\n",
       "      <th>2</th>\n",
       "      <td>13687_idx5_x2351_y701_class1.png</td>\n",
       "      <td>13687</td>\n",
       "      <td>1</td>\n",
       "    </tr>\n",
       "    <tr>\n",
       "      <th>3</th>\n",
       "      <td>13916_idx5_x1101_y1101_class1.png</td>\n",
       "      <td>13916</td>\n",
       "      <td>1</td>\n",
       "    </tr>\n",
       "    <tr>\n",
       "      <th>4</th>\n",
       "      <td>10302_idx5_x2101_y151_class1.png</td>\n",
       "      <td>10302</td>\n",
       "      <td>1</td>\n",
       "    </tr>\n",
       "  </tbody>\n",
       "</table>\n",
       "</div>"
      ],
      "text/plain": [
       "                            image_id patient_id target\n",
       "0   13462_idx5_x751_y1351_class1.png      13462      1\n",
       "1    9181_idx5_x2651_y651_class1.png       9181      1\n",
       "2   13687_idx5_x2351_y701_class1.png      13687      1\n",
       "3  13916_idx5_x1101_y1101_class1.png      13916      1\n",
       "4   10302_idx5_x2101_y151_class1.png      10302      1"
      ]
     },
     "execution_count": 9,
     "metadata": {},
     "output_type": "execute_result"
    }
   ],
   "source": [
    "###### Mostly, taken from the other author's notebook. ######\n",
    "\n",
    "# Define Helper Functions\n",
    "\n",
    "# Each file name has this format:\n",
    "# '14211_idx5_x2401_y1301_class1.png'\n",
    "\n",
    "def extract_patient_id(x):\n",
    "    # split into a list\n",
    "    a = x.split('_')\n",
    "    # the id is the first index in the list\n",
    "    patient_id = a[0]\n",
    "    \n",
    "    return patient_id\n",
    "\n",
    "def extract_target(x):\n",
    "    # split into a list\n",
    "    a = x.split('_')\n",
    "    # the target is part of the string in index 4\n",
    "    b = a[4]\n",
    "    # the ytarget i.e. 1 or 2 is the 5th index of the string --> class1\n",
    "    target = b[5]\n",
    "    \n",
    "    return target\n",
    "\n",
    "# extract the patient id\n",
    "\n",
    "# create a new column called 'patient_id'\n",
    "df_data['patient_id'] = df_data['image_id'].apply(extract_patient_id)\n",
    "# create a new column called 'target'\n",
    "df_data['target'] = df_data['image_id'].apply(extract_target)\n",
    "\n",
    "df_data.head()"
   ]
  },
  {
   "cell_type": "markdown",
   "id": "3fc82d92",
   "metadata": {},
   "source": [
    "### The class distribution of the dataset.\n",
    "There are more negative cases than the positive ones. This makes the dataset imbalanced since the nature of the problem doesn't require that the number of negative cases to be more or less than the positive ones."
   ]
  },
  {
   "cell_type": "code",
   "execution_count": 10,
   "id": "86a43813",
   "metadata": {},
   "outputs": [
    {
     "data": {
      "text/plain": [
       "Text(0.5, 1.0, 'Class Distributions')"
      ]
     },
     "execution_count": 10,
     "metadata": {},
     "output_type": "execute_result"
    },
    {
     "data": {
      "image/png": "[encoded data removed]",
      "text/plain": [
       "<Figure size 640x480 with 1 Axes>"
      ]
     },
     "metadata": {},
     "output_type": "display_data"
    }
   ],
   "source": [
    "# Showing the class distribution of the dataset, We find that the negative is way more than the positives.\n",
    "sns.countplot(x=df_data.target).set_title(\"Class Distributions\")"
   ]
  },
  {
   "cell_type": "markdown",
   "id": "330bd9da",
   "metadata": {},
   "source": [
    "# Train / Test / Validation"
   ]
  },
  {
   "cell_type": "code",
   "execution_count": 11,
   "id": "27fdece0",
   "metadata": {},
   "outputs": [
    {
     "name": "stdout",
     "output_type": "stream",
     "text": [
      "Valid: 1000\n",
      "Test: 10000\n"
     ]
    }
   ],
   "source": [
    "from sklearn.model_selection import train_test_split\n",
    "\n",
    "y = df_data['target']\n",
    "\n",
    "_, df_test = train_test_split(df_data, test_size=0.03603, random_state=42, stratify=y)\n",
    "\n",
    "_, df_val = train_test_split(df_data, test_size=0.0036025, random_state=42, stratify=y)\n",
    "\n",
    "print('Valid:', df_val.shape[0])\n",
    "print('Test:', df_test.shape[0])"
   ]
  },
  {
   "cell_type": "code",
   "execution_count": 12,
   "id": "d8ba9c1e",
   "metadata": {},
   "outputs": [
    {
     "data": {
      "text/plain": [
       "Text(0.5, 1.0, 'Valid Class Distributions')"
      ]
     },
     "execution_count": 12,
     "metadata": {},
     "output_type": "execute_result"
    },
    {
     "data": {
      "image/png": "[encoded data removed]",
      "text/plain": [
       "<Figure size 640x480 with 1 Axes>"
      ]
     },
     "metadata": {},
     "output_type": "display_data"
    }
   ],
   "source": [
    "sns.countplot(x=df_val['target']).set_title('Valid Class Distributions')"
   ]
  },
  {
   "cell_type": "code",
   "execution_count": 13,
   "id": "8f3abc52",
   "metadata": {},
   "outputs": [
    {
     "data": {
      "text/plain": [
       "Text(0.5, 1.0, 'Test Class Distributions')"
      ]
     },
     "execution_count": 13,
     "metadata": {},
     "output_type": "execute_result"
    },
    {
     "data": {
      "image/png": "[encoded data removed]",
      "text/plain": [
       "<Figure size 640x480 with 1 Axes>"
      ]
     },
     "metadata": {},
     "output_type": "display_data"
    }
   ],
   "source": [
    "sns.countplot(x=df_test['target']).set_title('Test Class Distributions')"
   ]
  },
  {
   "cell_type": "code",
   "execution_count": 14,
   "id": "98c86261",
   "metadata": {},
   "outputs": [
    {
     "name": "stdout",
     "output_type": "stream",
     "text": [
      "Train: 267524\n",
      "Valid: 1000\n",
      "Test: 10000\n"
     ]
    }
   ],
   "source": [
    "# Improved the speed of the identification through using a dictionary... Dramatically.\n",
    "val_dict = df_val.set_index('image_id').T.to_dict('list')\n",
    "test_dict = df_test.set_index('image_id').T.to_dict('list')\n",
    "\n",
    "def identify_train_val_and_test_rows(x):\n",
    "    if str(x) in val_dict:\n",
    "        return 'val'\n",
    "    elif str(x) in test_dict:\n",
    "        return 'test'\n",
    "    else:\n",
    "        return 'train'\n",
    "\n",
    "# create a new colum that is a copy of the image_id column\n",
    "df_data['train_or_val_or_test'] = df_data['image_id']\n",
    "# apply the function to this new column\n",
    "df_data['train_or_val_or_test'] = df_data['train_or_val_or_test'].apply(identify_train_val_and_test_rows)\n",
    "   \n",
    "# filter out train rows\n",
    "df_train = df_data[df_data['train_or_val_or_test'] == 'train']\n",
    "\n",
    "print('Train:', len(df_train))\n",
    "print('Valid:', len(df_val))\n",
    "print('Test:', len(df_test))"
   ]
  },
  {
   "cell_type": "code",
   "execution_count": 15,
   "id": "89731bf8",
   "metadata": {},
   "outputs": [
    {
     "data": {
      "text/plain": [
       "Text(0.5, 1.0, 'Train Class Distributions')"
      ]
     },
     "execution_count": 15,
     "metadata": {},
     "output_type": "execute_result"
    },
    {
     "data": {
      "image/png": "[encoded data removed]",
      "text/plain": [
       "<Figure size 640x480 with 1 Axes>"
      ]
     },
     "metadata": {},
     "output_type": "display_data"
    }
   ],
   "source": [
    "sns.countplot(x=df_train['target']).set_title('Train Class Distributions')"
   ]
  },
  {
   "cell_type": "code",
   "execution_count": 16,
   "id": "d2593533",
   "metadata": {},
   "outputs": [
    {
     "data": {
      "text/html": [
       "<div>\n",
       "<style scoped>\n",
       "    .dataframe tbody tr th:only-of-type {\n",
       "        vertical-align: middle;\n",
       "    }\n",
       "\n",
       "    .dataframe tbody tr th {\n",
       "        vertical-align: top;\n",
       "    }\n",
       "\n",
       "    .dataframe thead th {\n",
       "        text-align: right;\n",
       "    }\n",
       "</style>\n",
       "<table border=\"1\" class=\"dataframe\">\n",
       "  <thead>\n",
       "    <tr style=\"text-align: right;\">\n",
       "      <th></th>\n",
       "      <th>patient_id</th>\n",
       "      <th>target</th>\n",
       "      <th>train_or_val_or_test</th>\n",
       "    </tr>\n",
       "    <tr>\n",
       "      <th>image_id</th>\n",
       "      <th></th>\n",
       "      <th></th>\n",
       "      <th></th>\n",
       "    </tr>\n",
       "  </thead>\n",
       "  <tbody>\n",
       "    <tr>\n",
       "      <th>13462_idx5_x751_y1351_class1.png</th>\n",
       "      <td>13462</td>\n",
       "      <td>1</td>\n",
       "      <td>train</td>\n",
       "    </tr>\n",
       "    <tr>\n",
       "      <th>9181_idx5_x2651_y651_class1.png</th>\n",
       "      <td>9181</td>\n",
       "      <td>1</td>\n",
       "      <td>train</td>\n",
       "    </tr>\n",
       "    <tr>\n",
       "      <th>13687_idx5_x2351_y701_class1.png</th>\n",
       "      <td>13687</td>\n",
       "      <td>1</td>\n",
       "      <td>train</td>\n",
       "    </tr>\n",
       "    <tr>\n",
       "      <th>13916_idx5_x1101_y1101_class1.png</th>\n",
       "      <td>13916</td>\n",
       "      <td>1</td>\n",
       "      <td>train</td>\n",
       "    </tr>\n",
       "    <tr>\n",
       "      <th>10302_idx5_x2101_y151_class1.png</th>\n",
       "      <td>10302</td>\n",
       "      <td>1</td>\n",
       "      <td>train</td>\n",
       "    </tr>\n",
       "  </tbody>\n",
       "</table>\n",
       "</div>"
      ],
      "text/plain": [
       "                                  patient_id target train_or_val_or_test\n",
       "image_id                                                                \n",
       "13462_idx5_x751_y1351_class1.png       13462      1                train\n",
       "9181_idx5_x2651_y651_class1.png         9181      1                train\n",
       "13687_idx5_x2351_y701_class1.png       13687      1                train\n",
       "13916_idx5_x1101_y1101_class1.png      13916      1                train\n",
       "10302_idx5_x2101_y151_class1.png       10302      1                train"
      ]
     },
     "execution_count": 16,
     "metadata": {},
     "output_type": "execute_result"
    }
   ],
   "source": [
    "# Set the image_id as the index in df_data\n",
    "df_data.set_index('image_id', inplace=True)\n",
    "df_data.head()"
   ]
  },
  {
   "cell_type": "code",
   "execution_count": 17,
   "id": "5a99992f",
   "metadata": {},
   "outputs": [],
   "source": [
    "# Make Train, Valid, and Test Folders\n",
    "\n",
    "\n",
    "# Create folders within the train, valid, and test folders\n",
    "# Inside each folder we create seperate folders for each class\n",
    "\n",
    "# train_dir\n",
    "train_dir = os.path.join('train_dir')\n",
    "if not os.path.isdir(train_dir):\n",
    "    os.mkdir(train_dir)\n",
    "    # create new folders inside train_dir\n",
    "    os.mkdir(os.path.join(train_dir, '1'))\n",
    "    os.mkdir(os.path.join(train_dir, '0'))\n",
    "    \n",
    "# val_dir\n",
    "val_dir = os.path.join('val_dir')\n",
    "if not os.path.isdir(val_dir):\n",
    "    os.mkdir(val_dir)\n",
    "    # Create new folders inside val_dir\n",
    "    os.mkdir(os.path.join(val_dir, '1'))\n",
    "    os.mkdir(os.path.join(val_dir, '0'))\n",
    "\n",
    "# test_dir\n",
    "test_dir = os.path.join('test_dir')\n",
    "if not os.path.isdir(test_dir):\n",
    "    os.mkdir(test_dir)\n",
    "    # Create new folders inside test_dir\n",
    "    os.mkdir(os.path.join(test_dir, '1'))\n",
    "    os.mkdir(os.path.join(test_dir, '0'))"
   ]
  },
  {
   "cell_type": "code",
   "execution_count": 18,
   "id": "0369c299",
   "metadata": {},
   "outputs": [
    {
     "name": "stdout",
     "output_type": "stream",
     "text": [
      "Data already exists (Hopefully)\n"
     ]
    }
   ],
   "source": [
    "if len(os.listdir(train_dir)) == 0:\n",
    "    # Get a list of train, val, and test images\n",
    "    train_list = list(df_train['image_id'])\n",
    "    val_list = list(df_val['image_id'])\n",
    "    test_list = list(df_test['image_id'])\n",
    "\n",
    "    # Transfer the train images\n",
    "\n",
    "    for image in train_list:\n",
    "\n",
    "        pat_id = df_data.loc[image,'patient_id']\n",
    "        label = df_data.loc[image,'target']\n",
    "        src = pat_id + '/' + label + '/' + image\n",
    "\n",
    "        # destination path to image\n",
    "        dst = os.path.join(train_dir, label, image)\n",
    "        # copy the image from the source to the destination\n",
    "        shutil.copyfile(src, dst)\n",
    "\n",
    "\n",
    "    # Transfer the val images\n",
    "\n",
    "    for image in val_list:\n",
    "\n",
    "        pat_id = df_data.loc[image,'patient_id']\n",
    "        label = df_data.loc[image,'target']\n",
    "        src = pat_id + '/' + label + '/' + image\n",
    "\n",
    "        # destination path to image\n",
    "        dst = os.path.join(val_dir, label, image)\n",
    "        # copy the image from the source to the destination\n",
    "        shutil.copyfile(src, dst)\n",
    "\n",
    "\n",
    "    # Transfer the test images\n",
    "    for image in test_list:\n",
    "\n",
    "        pat_id = df_data.loc[image,'patient_id']\n",
    "        label = df_data.loc[image,'target']\n",
    "        src = pat_id + '/' + label + '/' + image\n",
    "\n",
    "        # destination path to image\n",
    "        dst = os.path.join(test_dir, label, image)\n",
    "        # copy the image from the source to the destination\n",
    "        shutil.copyfile(src, dst)\n",
    "else:\n",
    "    print(\"Data already exists (Hopefully)\")"
   ]
  },
  {
   "cell_type": "code",
   "execution_count": 19,
   "id": "1cf942c2",
   "metadata": {},
   "outputs": [
    {
     "name": "stdout",
     "output_type": "stream",
     "text": [
      "Train Total: 383171\n",
      "Valid Total: 1000\n",
      "Test Total: 10000 \n",
      "\n",
      "Train Negative: 191577\n",
      "Train Positive: 191594 \n",
      "\n",
      "Valid Negative: 716\n",
      "Valid Positive: 284 \n",
      "\n",
      "Test Negative: 7161\n",
      "Test Positive: 2839\n"
     ]
    }
   ],
   "source": [
    "print('Train Total:', len(os.listdir('train_dir/1'))+len(os.listdir('train_dir/0')))\n",
    "print('Valid Total:', len(os.listdir('val_dir/1'))+len(os.listdir('val_dir/0')))\n",
    "print('Test Total:', len(os.listdir('test_dir/1'))+len(os.listdir('test_dir/0')), '\\n')\n",
    "\n",
    "print('Train Negative:', len(os.listdir('train_dir/0')))\n",
    "print('Train Positive:', len(os.listdir('train_dir/1')), '\\n')\n",
    "\n",
    "print('Valid Negative:', len(os.listdir('val_dir/0')))\n",
    "print('Valid Positive:', len(os.listdir('val_dir/1')), '\\n')\n",
    "\n",
    "print('Test Negative:', len(os.listdir('test_dir/0')))\n",
    "print('Test Positive:', len(os.listdir('test_dir/1')))"
   ]
  },
  {
   "cell_type": "markdown",
   "id": "7ff6ed2a",
   "metadata": {},
   "source": [
    "# Agumentation\n"
   ]
  },
  {
   "cell_type": "code",
   "execution_count": null,
   "id": "59656434",
   "metadata": {},
   "outputs": [],
   "source": []
  },
  {
   "cell_type": "markdown",
   "id": "a7199c14",
   "metadata": {},
   "source": [
    "### Create train / test / validation batches"
   ]
  },
  {
   "cell_type": "code",
   "execution_count": 20,
   "id": "5073ec1c",
   "metadata": {},
   "outputs": [],
   "source": [
    "from tensorflow.keras.preprocessing.image import ImageDataGenerator\n",
    "\n",
    "train_path = 'train_dir'\n",
    "valid_path = 'val_dir'\n",
    "test_path = 'test_dir'\n",
    "\n",
    "num_train_samples = len(df_train)\n",
    "num_val_samples = len(df_val)\n",
    "\n",
    "train_batch_size = 500\n",
    "val_batch_size = 500\n",
    "\n",
    "train_steps = np.ceil(num_train_samples / train_batch_size)\n",
    "val_steps = np.ceil(num_val_samples / val_batch_size)"
   ]
  },
  {
   "cell_type": "code",
   "execution_count": 21,
   "id": "da581fa7",
   "metadata": {},
   "outputs": [
    {
     "name": "stdout",
     "output_type": "stream",
     "text": [
      "Found 383171 images belonging to 2 classes.\n",
      "Found 1000 images belonging to 2 classes.\n",
      "Found 10000 images belonging to 2 classes.\n"
     ]
    }
   ],
   "source": [
    "datagen = ImageDataGenerator(preprocessing_function=keras.applications.inception_v3.preprocess_input, \n",
    "                             horizontal_flip=True,\n",
    "                             vertical_flip=True)\n",
    "image_size=224\n",
    "\n",
    "train_batches_bench = datagen.flow_from_directory(train_path, \n",
    "                                                  target_size=(image_size, image_size),\n",
    "                                                  batch_size=train_batch_size)\n",
    "\n",
    "valid_batches_bench = datagen.flow_from_directory(valid_path,  \n",
    "                                                  target_size=(image_size, image_size),\n",
    "                                                  batch_size=val_batch_size)\n",
    "\n",
    "test_batches_bench = datagen.flow_from_directory(test_path,  \n",
    "                                                 target_size=(image_size, image_size),\n",
    "                                                 batch_size=1,\n",
    "                                                 shuffle=False) # test dataset should not be shuffled"
   ]
  },
  {
   "cell_type": "markdown",
   "id": "ceed2630",
   "metadata": {},
   "source": [
    "## Train Baseline Model (VGG19)"
   ]
  },
  {
   "cell_type": "code",
   "execution_count": 22,
   "id": "133a28bd",
   "metadata": {},
   "outputs": [
    {
     "name": "stderr",
     "output_type": "stream",
     "text": [
      "2022-10-20 23:01:57.908746: I tensorflow/core/platform/cpu_feature_guard.cc:193] This TensorFlow binary is optimized with oneAPI Deep Neural Network Library (oneDNN) to use the following CPU instructions in performance-critical operations:  AVX2 AVX512F FMA\n",
      "To enable them in other operations, rebuild TensorFlow with the appropriate compiler flags.\n",
      "2022-10-20 23:01:58.726475: I tensorflow/core/common_runtime/gpu/gpu_device.cc:1532] Created device /job:localhost/replica:0/task:0/device:GPU:0 with 15087 MB memory:  -> device: 0, name: Quadro P5000, pci bus id: 0000:65:00.0, compute capability: 6.1\n"
     ]
    }
   ],
   "source": [
    "from tensorflow.keras.applications.vgg19 import VGG19\n",
    "vgg = tf.keras.applications.vgg19.VGG19(\n",
    "    include_top=False,\n",
    "    weights='imagenet',\n",
    "    input_shape=(244, 244, 3)\n",
    ")\n"
   ]
  },
  {
   "cell_type": "code",
   "execution_count": 23,
   "id": "58123b30",
   "metadata": {},
   "outputs": [],
   "source": [
    "for layer in vgg.layers:\n",
    "  layer.trainable = False"
   ]
  },
  {
   "cell_type": "code",
   "execution_count": 24,
   "id": "0e3222fa",
   "metadata": {},
   "outputs": [],
   "source": [
    "x = tf.keras.layers.Flatten()(vgg.output)  # One flatten layer"
   ]
  },
  {
   "cell_type": "code",
   "execution_count": 25,
   "id": "1e55d486",
   "metadata": {},
   "outputs": [],
   "source": [
    "prediction = tf.keras.layers.Dense(2, activation='softmax')(x) # one softmax layer"
   ]
  },
  {
   "cell_type": "code",
   "execution_count": 26,
   "id": "7dc1369f",
   "metadata": {},
   "outputs": [],
   "source": [
    "model = tf.keras.Model(inputs=vgg.input, outputs=prediction)   # Final Model"
   ]
  },
  {
   "cell_type": "code",
   "execution_count": 27,
   "id": "d222a925",
   "metadata": {},
   "outputs": [
    {
     "name": "stdout",
     "output_type": "stream",
     "text": [
      "Model: \"model\"\n",
      "_________________________________________________________________\n",
      " Layer (type)                Output Shape              Param #   \n",
      "=================================================================\n",
      " input_1 (InputLayer)        [(None, 244, 244, 3)]     0         \n",
      "                                                                 \n",
      " block1_conv1 (Conv2D)       (None, 244, 244, 64)      1792      \n",
      "                                                                 \n",
      " block1_conv2 (Conv2D)       (None, 244, 244, 64)      36928     \n",
      "                                                                 \n",
      " block1_pool (MaxPooling2D)  (None, 122, 122, 64)      0         \n",
      "                                                                 \n",
      " block2_conv1 (Conv2D)       (None, 122, 122, 128)     73856     \n",
      "                                                                 \n",
      " block2_conv2 (Conv2D)       (None, 122, 122, 128)     147584    \n",
      "                                                                 \n",
      " block2_pool (MaxPooling2D)  (None, 61, 61, 128)       0         \n",
      "                                                                 \n",
      " block3_conv1 (Conv2D)       (None, 61, 61, 256)       295168    \n",
      "                                                                 \n",
      " block3_conv2 (Conv2D)       (None, 61, 61, 256)       590080    \n",
      "                                                                 \n",
      " block3_conv3 (Conv2D)       (None, 61, 61, 256)       590080    \n",
      "                                                                 \n",
      " block3_conv4 (Conv2D)       (None, 61, 61, 256)       590080    \n",
      "                                                                 \n",
      " block3_pool (MaxPooling2D)  (None, 30, 30, 256)       0         \n",
      "                                                                 \n",
      " block4_conv1 (Conv2D)       (None, 30, 30, 512)       1180160   \n",
      "                                                                 \n",
      " block4_conv2 (Conv2D)       (None, 30, 30, 512)       2359808   \n",
      "                                                                 \n",
      " block4_conv3 (Conv2D)       (None, 30, 30, 512)       2359808   \n",
      "                                                                 \n",
      " block4_conv4 (Conv2D)       (None, 30, 30, 512)       2359808   \n",
      "                                                                 \n",
      " block4_pool (MaxPooling2D)  (None, 15, 15, 512)       0         \n",
      "                                                                 \n",
      " block5_conv1 (Conv2D)       (None, 15, 15, 512)       2359808   \n",
      "                                                                 \n",
      " block5_conv2 (Conv2D)       (None, 15, 15, 512)       2359808   \n",
      "                                                                 \n",
      " block5_conv3 (Conv2D)       (None, 15, 15, 512)       2359808   \n",
      "                                                                 \n",
      " block5_conv4 (Conv2D)       (None, 15, 15, 512)       2359808   \n",
      "                                                                 \n",
      " block5_pool (MaxPooling2D)  (None, 7, 7, 512)         0         \n",
      "                                                                 \n",
      " flatten (Flatten)           (None, 25088)             0         \n",
      "                                                                 \n",
      " dense (Dense)               (None, 2)                 50178     \n",
      "                                                                 \n",
      "=================================================================\n",
      "Total params: 20,074,562\n",
      "Trainable params: 50,178\n",
      "Non-trainable params: 20,024,384\n",
      "_________________________________________________________________\n"
     ]
    }
   ],
   "source": [
    "model.summary()"
   ]
  },
  {
   "cell_type": "code",
   "execution_count": 28,
   "id": "af4cb019",
   "metadata": {},
   "outputs": [
    {
     "name": "stdout",
     "output_type": "stream",
     "text": [
      "Epoch 1/30\n"
     ]
    },
    {
     "name": "stderr",
     "output_type": "stream",
     "text": [
      "2022-10-20 23:02:01.509324: W tensorflow/core/kernels/gpu_utils.cc:50] Failed to allocate memory for convolution redzone checking; skipping this check. This is benign and only means that we won't check cudnn for out-of-bounds reads and writes. This message will only be printed once.\n",
      "2022-10-20 23:02:01.816280: I tensorflow/stream_executor/cuda/cuda_dnn.cc:384] Loaded cuDNN version 8100\n",
      "2022-10-20 23:02:02.171807: W tensorflow/stream_executor/gpu/asm_compiler.cc:111] *** WARNING *** You are using ptxas 10.1.243, which is older than 11.1. ptxas before 11.1 is known to miscompile XLA code, leading to incorrect results or invalid-address errors.\n",
      "\n",
      "You may not need to update to CUDA 11.1; cherry-picking the ptxas binary is often sufficient.\n"
     ]
    },
    {
     "name": "stdout",
     "output_type": "stream",
     "text": [
      "536/536 [==============================] - ETA: 0s - loss: 0.3034 - accuracy: 0.8692\n",
      "Epoch 1: val_loss improved from inf to 0.39388, saving model to breast_histopathology_bench_best.hdf5\n",
      "536/536 [==============================] - 1185s 2s/step - loss: 0.3034 - accuracy: 0.8692 - val_loss: 0.3939 - val_accuracy: 0.8200\n",
      "Epoch 2/30\n",
      "536/536 [==============================] - ETA: 0s - loss: 0.2634 - accuracy: 0.8858\n",
      "Epoch 2: val_loss improved from 0.39388 to 0.38094, saving model to breast_histopathology_bench_best.hdf5\n",
      "536/536 [==============================] - 1150s 2s/step - loss: 0.2634 - accuracy: 0.8858 - val_loss: 0.3809 - val_accuracy: 0.8420\n",
      "Epoch 3/30\n",
      "536/536 [==============================] - ETA: 0s - loss: 0.2605 - accuracy: 0.8876\n",
      "Epoch 3: val_loss did not improve from 0.38094\n",
      "536/536 [==============================] - 1150s 2s/step - loss: 0.2605 - accuracy: 0.8876 - val_loss: 0.3864 - val_accuracy: 0.8310\n",
      "Epoch 4/30\n",
      "536/536 [==============================] - ETA: 0s - loss: 0.2598 - accuracy: 0.8882\n",
      "Epoch 4: val_loss did not improve from 0.38094\n",
      "536/536 [==============================] - 1150s 2s/step - loss: 0.2598 - accuracy: 0.8882 - val_loss: 0.4197 - val_accuracy: 0.8250\n",
      "Epoch 5/30\n",
      "536/536 [==============================] - ETA: 0s - loss: 0.2584 - accuracy: 0.8893\n",
      "Epoch 5: val_loss did not improve from 0.38094\n",
      "536/536 [==============================] - 1150s 2s/step - loss: 0.2584 - accuracy: 0.8893 - val_loss: 0.3973 - val_accuracy: 0.8240\n",
      "Epoch 6/30\n",
      "536/536 [==============================] - ETA: 0s - loss: 0.2542 - accuracy: 0.8910\n",
      "Epoch 6: val_loss did not improve from 0.38094\n",
      "536/536 [==============================] - 1150s 2s/step - loss: 0.2542 - accuracy: 0.8910 - val_loss: 0.3837 - val_accuracy: 0.8270\n",
      "Epoch 7/30\n",
      "536/536 [==============================] - ETA: 0s - loss: 0.2550 - accuracy: 0.8908\n",
      "Epoch 7: val_loss improved from 0.38094 to 0.38082, saving model to breast_histopathology_bench_best.hdf5\n",
      "536/536 [==============================] - 1152s 2s/step - loss: 0.2550 - accuracy: 0.8908 - val_loss: 0.3808 - val_accuracy: 0.8350\n",
      "Epoch 8/30\n",
      "536/536 [==============================] - ETA: 0s - loss: 0.2558 - accuracy: 0.8902\n",
      "Epoch 8: val_loss did not improve from 0.38082\n",
      "536/536 [==============================] - 1152s 2s/step - loss: 0.2558 - accuracy: 0.8902 - val_loss: 0.4646 - val_accuracy: 0.7820\n",
      "Epoch 9/30\n",
      "536/536 [==============================] - ETA: 0s - loss: 0.2563 - accuracy: 0.8911\n",
      "Epoch 9: val_loss did not improve from 0.38082\n",
      "536/536 [==============================] - 1157s 2s/step - loss: 0.2563 - accuracy: 0.8911 - val_loss: 0.4189 - val_accuracy: 0.8150\n",
      "Epoch 10/30\n",
      "536/536 [==============================] - ETA: 0s - loss: 0.2531 - accuracy: 0.8916\n",
      "Epoch 10: val_loss did not improve from 0.38082\n",
      "536/536 [==============================] - 1162s 2s/step - loss: 0.2531 - accuracy: 0.8916 - val_loss: 0.3846 - val_accuracy: 0.8210\n",
      "Epoch 11/30\n",
      "536/536 [==============================] - ETA: 0s - loss: 0.2551 - accuracy: 0.8913\n",
      "Epoch 11: val_loss did not improve from 0.38082\n",
      "536/536 [==============================] - 1162s 2s/step - loss: 0.2551 - accuracy: 0.8913 - val_loss: 0.4126 - val_accuracy: 0.8120\n",
      "Epoch 12/30\n",
      "536/536 [==============================] - ETA: 0s - loss: 0.2542 - accuracy: 0.8916\n",
      "Epoch 12: val_loss improved from 0.38082 to 0.37407, saving model to breast_histopathology_bench_best.hdf5\n",
      "536/536 [==============================] - 1163s 2s/step - loss: 0.2542 - accuracy: 0.8916 - val_loss: 0.3741 - val_accuracy: 0.8370\n",
      "Epoch 13/30\n",
      "536/536 [==============================] - ETA: 0s - loss: 0.2551 - accuracy: 0.8914\n",
      "Epoch 13: val_loss did not improve from 0.37407\n",
      "536/536 [==============================] - 1161s 2s/step - loss: 0.2551 - accuracy: 0.8914 - val_loss: 0.3742 - val_accuracy: 0.8360\n",
      "Epoch 14/30\n",
      "536/536 [==============================] - ETA: 0s - loss: 0.2521 - accuracy: 0.8922\n",
      "Epoch 14: val_loss did not improve from 0.37407\n",
      "536/536 [==============================] - 1162s 2s/step - loss: 0.2521 - accuracy: 0.8922 - val_loss: 0.4087 - val_accuracy: 0.8270\n",
      "Epoch 15/30\n",
      "536/536 [==============================] - ETA: 0s - loss: 0.2554 - accuracy: 0.8912\n",
      "Epoch 15: val_loss did not improve from 0.37407\n",
      "536/536 [==============================] - 1161s 2s/step - loss: 0.2554 - accuracy: 0.8912 - val_loss: 0.4740 - val_accuracy: 0.8240\n",
      "Epoch 16/30\n",
      "536/536 [==============================] - ETA: 0s - loss: 0.2551 - accuracy: 0.8912\n",
      "Epoch 16: val_loss did not improve from 0.37407\n",
      "536/536 [==============================] - 1162s 2s/step - loss: 0.2551 - accuracy: 0.8912 - val_loss: 0.3919 - val_accuracy: 0.8340\n",
      "Epoch 17/30\n",
      "536/536 [==============================] - ETA: 0s - loss: 0.2571 - accuracy: 0.8906\n",
      "Epoch 17: val_loss did not improve from 0.37407\n",
      "536/536 [==============================] - 1163s 2s/step - loss: 0.2571 - accuracy: 0.8906 - val_loss: 0.4055 - val_accuracy: 0.8260\n",
      "Epoch 18/30\n",
      "536/536 [==============================] - ETA: 0s - loss: 0.2544 - accuracy: 0.8917\n",
      "Epoch 18: val_loss did not improve from 0.37407\n",
      "536/536 [==============================] - 1161s 2s/step - loss: 0.2544 - accuracy: 0.8917 - val_loss: 0.3848 - val_accuracy: 0.8320\n",
      "Epoch 19/30\n",
      "536/536 [==============================] - ETA: 0s - loss: 0.2515 - accuracy: 0.8927\n",
      "Epoch 19: val_loss did not improve from 0.37407\n",
      "536/536 [==============================] - 1162s 2s/step - loss: 0.2515 - accuracy: 0.8927 - val_loss: 0.4447 - val_accuracy: 0.8270\n",
      "Epoch 20/30\n",
      "536/536 [==============================] - ETA: 0s - loss: 0.2535 - accuracy: 0.8920\n",
      "Epoch 20: val_loss did not improve from 0.37407\n",
      "536/536 [==============================] - 1161s 2s/step - loss: 0.2535 - accuracy: 0.8920 - val_loss: 0.3822 - val_accuracy: 0.8350\n",
      "Epoch 21/30\n",
      "536/536 [==============================] - ETA: 0s - loss: 0.2538 - accuracy: 0.8916\n",
      "Epoch 21: val_loss did not improve from 0.37407\n",
      "536/536 [==============================] - 1163s 2s/step - loss: 0.2538 - accuracy: 0.8916 - val_loss: 0.4031 - val_accuracy: 0.8170\n",
      "Epoch 22/30\n",
      "536/536 [==============================] - ETA: 0s - loss: 0.2518 - accuracy: 0.8926\n",
      "Epoch 22: val_loss did not improve from 0.37407\n",
      "536/536 [==============================] - 1161s 2s/step - loss: 0.2518 - accuracy: 0.8926 - val_loss: 0.3782 - val_accuracy: 0.8300\n",
      "Epoch 23/30\n",
      "536/536 [==============================] - ETA: 0s - loss: 0.2502 - accuracy: 0.8929\n",
      "Epoch 23: val_loss did not improve from 0.37407\n",
      "536/536 [==============================] - 1161s 2s/step - loss: 0.2502 - accuracy: 0.8929 - val_loss: 0.3769 - val_accuracy: 0.8340\n",
      "Epoch 24/30\n",
      "536/536 [==============================] - ETA: 0s - loss: 0.2545 - accuracy: 0.8921\n",
      "Epoch 24: val_loss did not improve from 0.37407\n",
      "536/536 [==============================] - 1162s 2s/step - loss: 0.2545 - accuracy: 0.8921 - val_loss: 0.4416 - val_accuracy: 0.8010\n",
      "Epoch 25/30\n",
      "536/536 [==============================] - ETA: 0s - loss: 0.2510 - accuracy: 0.8929\n",
      "Epoch 25: val_loss did not improve from 0.37407\n",
      "536/536 [==============================] - 1161s 2s/step - loss: 0.2510 - accuracy: 0.8929 - val_loss: 0.4287 - val_accuracy: 0.8250\n",
      "Epoch 26/30\n",
      "536/536 [==============================] - ETA: 0s - loss: 0.2527 - accuracy: 0.8927\n",
      "Epoch 26: val_loss did not improve from 0.37407\n",
      "536/536 [==============================] - 1162s 2s/step - loss: 0.2527 - accuracy: 0.8927 - val_loss: 0.4041 - val_accuracy: 0.8250\n",
      "Epoch 27/30\n",
      "536/536 [==============================] - ETA: 0s - loss: 0.2496 - accuracy: 0.8940\n",
      "Epoch 27: val_loss did not improve from 0.37407\n",
      "536/536 [==============================] - 1162s 2s/step - loss: 0.2496 - accuracy: 0.8940 - val_loss: 0.3993 - val_accuracy: 0.8300\n",
      "Epoch 28/30\n",
      "536/536 [==============================] - ETA: 0s - loss: 0.2503 - accuracy: 0.8928\n",
      "Epoch 28: val_loss did not improve from 0.37407\n",
      "536/536 [==============================] - 1161s 2s/step - loss: 0.2503 - accuracy: 0.8928 - val_loss: 0.4013 - val_accuracy: 0.8250\n",
      "Epoch 29/30\n",
      "536/536 [==============================] - ETA: 0s - loss: 0.2504 - accuracy: 0.8935\n",
      "Epoch 29: val_loss did not improve from 0.37407\n",
      "536/536 [==============================] - 1161s 2s/step - loss: 0.2504 - accuracy: 0.8935 - val_loss: 0.3812 - val_accuracy: 0.8390\n"
     ]
    },
    {
     "name": "stdout",
     "output_type": "stream",
     "text": [
      "Epoch 30/30\n",
      "536/536 [==============================] - ETA: 0s - loss: 0.2539 - accuracy: 0.8921\n",
      "Epoch 30: val_loss did not improve from 0.37407\n",
      "536/536 [==============================] - 1160s 2s/step - loss: 0.2539 - accuracy: 0.8921 - val_loss: 0.4030 - val_accuracy: 0.8410\n"
     ]
    }
   ],
   "source": [
    "# This needs to be checked\n",
    "# We need to know which data to be added exactly. We want the Image Data Generator function but without any agumentation (for now)\n",
    "# did not have time to check exactly how. \n",
    "# Try to compare with the paper stuff. Hopefully we will be able to find something.\n",
    "from tensorflow.keras.callbacks import ModelCheckpoint\n",
    "model_checkpoint = ModelCheckpoint(filepath='breast_histopathology_bench_best.hdf5', verbose=1, save_best_only=True)\n",
    "\n",
    "class_weights={\n",
    "    0: 1.0, # negative\n",
    "    1: 1.0, # postive \n",
    "    # make model more sensitive to positive class if necessary\n",
    "}\n",
    "\n",
    "model.compile(loss='categorical_crossentropy', optimizer='adam', metrics=['accuracy']) \n",
    "history = model.fit(train_batches_bench, \n",
    "                                            steps_per_epoch=train_steps, \n",
    "                                            class_weight=class_weights,\n",
    "                                            validation_data=valid_batches_bench,\n",
    "                                            validation_steps=val_steps,\n",
    "                                            callbacks=[model_checkpoint], \n",
    "                                            epochs=30, \n",
    "                                            verbose=1)"
   ]
  },
  {
   "cell_type": "code",
   "execution_count": 37,
   "id": "76adb93d",
   "metadata": {},
   "outputs": [
    {
     "data": {
      "image/png": "[encoded data removed]",
      "text/plain": [
       "<Figure size 640x480 with 1 Axes>"
      ]
     },
     "metadata": {},
     "output_type": "display_data"
    }
   ],
   "source": [
    "import matplotlib.pyplot as plt\n",
    "training_acc = history.history['accuracy']\n",
    "val_acc = history.history['val_accuracy']\n",
    "\n",
    "epoch_count = range(1, 31)\n",
    "\n",
    "plt.figure()\n",
    "plt.plot(epoch_count, training_acc, 'r--')\n",
    "plt.plot(epoch_count, val_acc, 'b-')\n",
    "plt.legend(['Training Acc', 'Validation Acc'])\n",
    "plt.xlabel('Epoch')\n",
    "plt.ylabel('Accuracy')\n",
    "plt.savefig(\"vgg19-baseline-model.png\")\n",
    "plt.show()\n"
   ]
  },
  {
   "cell_type": "code",
   "execution_count": null,
   "id": "7a6582f1",
   "metadata": {},
   "outputs": [],
   "source": [
    "# Since we now have an output for the VGG19 model alone, we now can start on checking out the output\n",
    "# with agumented output.\n",
    "# P.S. this figure above is saved on desk as well. Do the same with the agumented version :D"
   ]
  }
 ],
 "metadata": {
  "kernelspec": {
   "display_name": "Python 3 (ipykernel)",
   "language": "python",
   "name": "python3"
  },
  "language_info": {
   "codemirror_mode": {
    "name": "ipython",
    "version": 3
   },
   "file_extension": ".py",
   "mimetype": "text/x-python",
   "name": "python",
   "nbconvert_exporter": "python",
   "pygments_lexer": "ipython3",
   "version": "3.8.13"
  }
 },
 "nbformat": 4,
 "nbformat_minor": 5
}
