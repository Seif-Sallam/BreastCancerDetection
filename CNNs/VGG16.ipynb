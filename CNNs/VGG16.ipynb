{
 "cells": [
  {
   "cell_type": "code",
   "execution_count": null,
   "id": "7ded0be0",
   "metadata": {
    "_cell_guid": "b1076dfc-b9ad-4769-8c92-a6c4dae69d19",
    "_uuid": "8f2839f25d086af736a60e9eeb907d3b93b6e0e5",
    "execution": {
     "iopub.execute_input": "2022-11-22T07:11:17.384231Z",
     "iopub.status.busy": "2022-11-22T07:11:17.383778Z",
     "iopub.status.idle": "2022-11-22T07:11:23.105981Z",
     "shell.execute_reply": "2022-11-22T07:11:23.104950Z"
    },
    "papermill": {
     "duration": 5.739021,
     "end_time": "2022-11-22T07:11:23.108480",
     "exception": false,
     "start_time": "2022-11-22T07:11:17.369459",
     "status": "completed"
    },
    "tags": []
   },
   "outputs": [],
   "source": [
    "# Testing that the machine recognizes the GPU\n",
    "import tensorflow as tf\n",
    "tf.config.list_physical_devices('GPU')"
   ]
  },
  {
   "cell_type": "code",
   "execution_count": null,
   "id": "9978a919",
   "metadata": {
    "execution": {
     "iopub.execute_input": "2022-11-22T07:11:23.127133Z",
     "iopub.status.busy": "2022-11-22T07:11:23.126003Z",
     "iopub.status.idle": "2022-11-22T07:11:23.756601Z",
     "shell.execute_reply": "2022-11-22T07:11:23.755632Z"
    },
    "papermill": {
     "duration": 0.64211,
     "end_time": "2022-11-22T07:11:23.759126",
     "exception": false,
     "start_time": "2022-11-22T07:11:23.117016",
     "status": "completed"
    },
    "tags": []
   },
   "outputs": [],
   "source": [
    "import pandas as pd\n",
    "import numpy as np\n",
    "import matplotlib.image as mpimg\n",
    "import matplotlib.pyplot as plt\n",
    "from matplotlib import pyplot\n",
    "%matplotlib inline\n",
    "import seaborn as sns\n",
    "import os\n",
    "from os.path import isfile\n",
    "import tensorflow as tf\n",
    "from tensorflow import keras\n",
    "from tensorflow.python.keras import utils\n",
    "import itertools\n",
    "import shutil\n",
    "np.random.seed(42)\n",
    "from PIL import Image\n",
    "from PIL import ImageFile\n",
    "ImageFile.LOAD_TRUNCATED_IMAGES = True"
   ]
  },
  {
   "cell_type": "code",
   "execution_count": null,
   "id": "324368fa",
   "metadata": {
    "execution": {
     "iopub.execute_input": "2022-11-22T07:11:23.776199Z",
     "iopub.status.busy": "2022-11-22T07:11:23.775317Z",
     "iopub.status.idle": "2022-11-22T07:11:24.857664Z",
     "shell.execute_reply": "2022-11-22T07:11:24.856554Z"
    },
    "papermill": {
     "duration": 1.093338,
     "end_time": "2022-11-22T07:11:24.860280",
     "exception": false,
     "start_time": "2022-11-22T07:11:23.766942",
     "status": "completed"
    },
    "tags": []
   },
   "outputs": [],
   "source": [
    "print(tf.__version__)\n",
    "print(tf.keras.__version__)"
   ]
  },
  {
   "cell_type": "code",
   "execution_count": null,
   "id": "67bcb050",
   "metadata": {
    "execution": {
     "iopub.execute_input": "2022-11-22T07:11:24.879094Z",
     "iopub.status.busy": "2022-11-22T07:11:24.878768Z",
     "iopub.status.idle": "2022-11-22T07:11:24.884482Z",
     "shell.execute_reply": "2022-11-22T07:11:24.883461Z"
    },
    "papermill": {
     "duration": 0.019108,
     "end_time": "2022-11-22T07:11:24.887857",
     "exception": false,
     "start_time": "2022-11-22T07:11:24.868749",
     "status": "completed"
    },
    "tags": []
   },
   "outputs": [],
   "source": [
    "# gpu_options = tf.compat.v1.GPUOptions(allow_growth=True, per_process_gpu_memory_fraction=0.5)\n",
    "# sess = tf.compat.v1.Session(config=tf.compat.v1.ConfigProto(gpu_options=gpu_options))\n",
    "\n",
    "current_dir = os.getcwd()\n",
    "print(current_dir)"
   ]
  },
  {
   "cell_type": "code",
   "execution_count": null,
   "id": "0aa0e9d5",
   "metadata": {
    "execution": {
     "iopub.execute_input": "2022-11-22T07:11:24.909262Z",
     "iopub.status.busy": "2022-11-22T07:11:24.908608Z",
     "iopub.status.idle": "2022-11-22T07:16:23.835933Z",
     "shell.execute_reply": "2022-11-22T07:16:23.834075Z"
    },
    "papermill": {
     "duration": 298.940336,
     "end_time": "2022-11-22T07:16:23.839024",
     "exception": false,
     "start_time": "2022-11-22T07:11:24.898688",
     "status": "completed"
    },
    "tags": []
   },
   "outputs": [],
   "source": [
    "\n",
    "pos_data = []\n",
    "neg_data = []\n",
    "\n",
    "if True:\n",
    "    cur_dir = os.getcwd()\n",
    "    patient_dir = \"/kaggle/input/breast-histopathology-images/\"\n",
    "    patient_list = os.listdir(patient_dir)\n",
    "\n",
    "    for patient in patient_list:\n",
    "\n",
    "      try:\n",
    "\n",
    "        path_0 = patient_dir + str(patient) + '/0'\n",
    "        path_1 = patient_dir + str(patient) + '/1'\n",
    "        \n",
    "        # create a list of all files in folder 0\n",
    "        file_list_0 = os.listdir(path_0)\n",
    "        # create a list of list all file in folder 1\n",
    "        file_list_1 = os.listdir(path_1)\n",
    "\n",
    "        # move the 0 images to all_images_dir\n",
    "        for fname in file_list_0:\n",
    "            # source path to image\n",
    "            src = os.path.join(path_0, fname)\n",
    "            if os.path.isfile(src):\n",
    "              neg_data.append(src)\n",
    "\n",
    "        # move the 1 images to all_images_dir\n",
    "        for fname in file_list_1:\n",
    "\n",
    "            # source path to image\n",
    "            src = os.path.join(path_1, fname)\n",
    "            if os.path.isfile(src):\n",
    "              pos_data.append(src)\n",
    "\n",
    "      except:\n",
    "        print(patient + \" cannot be added properly\")\n",
    "else:\n",
    "    print(\"Data already exists. Skipped copying\")\n",
    "\n",
    "print(f\"Total: {len(neg_data) + len(pos_data)}\")\n",
    "print(f\"Negative Data: {len(neg_data)}\")\n",
    "print(f\"Positive Data: {len(pos_data)}\")"
   ]
  },
  {
   "cell_type": "code",
   "execution_count": null,
   "id": "3a46548c",
   "metadata": {
    "execution": {
     "iopub.execute_input": "2022-11-22T07:16:23.857363Z",
     "iopub.status.busy": "2022-11-22T07:16:23.856360Z",
     "iopub.status.idle": "2022-11-22T07:16:23.896787Z",
     "shell.execute_reply": "2022-11-22T07:16:23.895833Z"
    },
    "papermill": {
     "duration": 0.051713,
     "end_time": "2022-11-22T07:16:23.899305",
     "exception": false,
     "start_time": "2022-11-22T07:16:23.847592",
     "status": "completed"
    },
    "tags": []
   },
   "outputs": [],
   "source": [
    "###### Mostly, taken from the other author's notebook. ######\n",
    "\n",
    "# Create a dataframe containing all the information\n",
    "\n",
    "# image_list_1 = os.listdir(f'{all_images_dir}/1')\n",
    "# df_data_1 = pd.DataFrame(image_list_1, columns=['image_id'])\n",
    "\n",
    "# image_list_0 = os.listdir(f'{all_images_dir}/0')\n",
    "# df_data_0 = pd.DataFrame(image_list_0, columns=['image_id'])\n",
    "\n",
    "df_data_1 = pd.DataFrame(pos_data, columns=['image_id'])\n",
    "df_data_0 = pd.DataFrame(neg_data, columns=['image_id'])\n",
    "\n",
    "df_data = pd.concat([df_data_1, df_data_0])"
   ]
  },
  {
   "cell_type": "code",
   "execution_count": null,
   "id": "ff401731",
   "metadata": {
    "execution": {
     "iopub.execute_input": "2022-11-22T07:16:23.916059Z",
     "iopub.status.busy": "2022-11-22T07:16:23.915763Z",
     "iopub.status.idle": "2022-11-22T07:16:23.940190Z",
     "shell.execute_reply": "2022-11-22T07:16:23.939195Z"
    },
    "papermill": {
     "duration": 0.034839,
     "end_time": "2022-11-22T07:16:23.942095",
     "exception": false,
     "start_time": "2022-11-22T07:16:23.907256",
     "status": "completed"
    },
    "tags": []
   },
   "outputs": [],
   "source": [
    "# Validating that the data now exists in the dataframe\n",
    "df_data.head()"
   ]
  },
  {
   "cell_type": "code",
   "execution_count": null,
   "id": "dc1b1102",
   "metadata": {
    "execution": {
     "iopub.execute_input": "2022-11-22T07:16:23.959499Z",
     "iopub.status.busy": "2022-11-22T07:16:23.958638Z",
     "iopub.status.idle": "2022-11-22T07:16:24.316190Z",
     "shell.execute_reply": "2022-11-22T07:16:24.315126Z"
    },
    "papermill": {
     "duration": 0.369127,
     "end_time": "2022-11-22T07:16:24.319176",
     "exception": false,
     "start_time": "2022-11-22T07:16:23.950049",
     "status": "completed"
    },
    "tags": []
   },
   "outputs": [],
   "source": [
    "###### Mostly, taken from the other author's notebook. ######\n",
    "\n",
    "# Define Helper Functions\n",
    "\n",
    "# Each file name has this format:\n",
    "# '14211_idx5_x2401_y1301_class1.png'\n",
    "\n",
    "prefix = \"/kaggle/input/breast-histopathology-images/\"\n",
    "def extract_patient_id(x):\n",
    "    st = x[len(prefix):]\n",
    "    # split into a list\n",
    "    a = st.split('/')\n",
    "    # the id is the first index in the list\n",
    "    patient_id = a[0]\n",
    "    \n",
    "    return patient_id\n",
    "\n",
    "def extract_target(x):\n",
    "    st = x[len(prefix):]\n",
    "    # split into a list\n",
    "    a = st.split('_')\n",
    "    # the target is part of the string in index 4\n",
    "    b = a[4]\n",
    "    # the ytarget i.e. 1 or 2 is the 5th index of the string --> class1\n",
    "    target = b[5]\n",
    "    \n",
    "    return target\n",
    "\n",
    "# extract the patient id\n",
    "\n",
    "# create a new column called 'patient_id'\n",
    "df_data['patient_id'] = df_data['image_id'].apply(extract_patient_id)\n",
    "# create a new column called 'target'\n",
    "df_data['target'] = df_data['image_id'].apply(extract_target)\n",
    "\n",
    "df_data.head()"
   ]
  },
  {
   "cell_type": "code",
   "execution_count": null,
   "id": "4e7ec0fe",
   "metadata": {
    "execution": {
     "iopub.execute_input": "2022-11-22T07:16:24.337343Z",
     "iopub.status.busy": "2022-11-22T07:16:24.337028Z",
     "iopub.status.idle": "2022-11-22T07:16:24.753702Z",
     "shell.execute_reply": "2022-11-22T07:16:24.752892Z"
    },
    "papermill": {
     "duration": 0.428351,
     "end_time": "2022-11-22T07:16:24.755979",
     "exception": false,
     "start_time": "2022-11-22T07:16:24.327628",
     "status": "completed"
    },
    "tags": []
   },
   "outputs": [],
   "source": [
    "# Showing the class distribution of the dataset, We find that the negative is way more than the positives.\n",
    "sns.countplot(x=df_data.target).set_title(\"Class Distributions\")"
   ]
  },
  {
   "cell_type": "code",
   "execution_count": null,
   "id": "aaa8bf97",
   "metadata": {
    "execution": {
     "iopub.execute_input": "2022-11-22T07:16:24.775158Z",
     "iopub.status.busy": "2022-11-22T07:16:24.774757Z",
     "iopub.status.idle": "2022-11-22T07:16:25.748173Z",
     "shell.execute_reply": "2022-11-22T07:16:25.746582Z"
    },
    "papermill": {
     "duration": 0.986514,
     "end_time": "2022-11-22T07:16:25.751236",
     "exception": false,
     "start_time": "2022-11-22T07:16:24.764722",
     "status": "completed"
    },
    "tags": []
   },
   "outputs": [],
   "source": [
    "from sklearn.model_selection import train_test_split\n",
    "\n",
    "y = df_data['target']\n",
    "\n",
    "_, df_test = train_test_split(df_data, test_size=0.03603, random_state=42, stratify=y)\n",
    "\n",
    "_, df_val = train_test_split(df_data, test_size=0.0036025, random_state=42, stratify=y)\n",
    "\n",
    "print('Valid:', df_val.shape[0])\n",
    "print('Test:', df_test.shape[0])"
   ]
  },
  {
   "cell_type": "code",
   "execution_count": null,
   "id": "90b98c1e",
   "metadata": {
    "execution": {
     "iopub.execute_input": "2022-11-22T07:16:25.771988Z",
     "iopub.status.busy": "2022-11-22T07:16:25.770968Z",
     "iopub.status.idle": "2022-11-22T07:16:25.975182Z",
     "shell.execute_reply": "2022-11-22T07:16:25.974116Z"
    },
    "papermill": {
     "duration": 0.217234,
     "end_time": "2022-11-22T07:16:25.977753",
     "exception": false,
     "start_time": "2022-11-22T07:16:25.760519",
     "status": "completed"
    },
    "tags": []
   },
   "outputs": [],
   "source": [
    "sns.countplot(x=df_val['target']).set_title('Valid Class Distributions')"
   ]
  },
  {
   "cell_type": "code",
   "execution_count": null,
   "id": "e187e4d5",
   "metadata": {
    "execution": {
     "iopub.execute_input": "2022-11-22T07:16:25.997808Z",
     "iopub.status.busy": "2022-11-22T07:16:25.997473Z",
     "iopub.status.idle": "2022-11-22T07:16:26.198279Z",
     "shell.execute_reply": "2022-11-22T07:16:26.197213Z"
    },
    "papermill": {
     "duration": 0.21363,
     "end_time": "2022-11-22T07:16:26.200395",
     "exception": false,
     "start_time": "2022-11-22T07:16:25.986765",
     "status": "completed"
    },
    "tags": []
   },
   "outputs": [],
   "source": [
    "sns.countplot(x=df_test['target']).set_title('Test Class Distributions')"
   ]
  },
  {
   "cell_type": "code",
   "execution_count": null,
   "id": "aebfc0a8",
   "metadata": {
    "execution": {
     "iopub.execute_input": "2022-11-22T07:16:26.220666Z",
     "iopub.status.busy": "2022-11-22T07:16:26.219108Z",
     "iopub.status.idle": "2022-11-22T07:16:27.212173Z",
     "shell.execute_reply": "2022-11-22T07:16:27.211200Z"
    },
    "papermill": {
     "duration": 1.005008,
     "end_time": "2022-11-22T07:16:27.214380",
     "exception": false,
     "start_time": "2022-11-22T07:16:26.209372",
     "status": "completed"
    },
    "tags": []
   },
   "outputs": [],
   "source": [
    "# Improved the speed of the identification through using a dictionary... Dramatically.\n",
    "val_dict = df_val.set_index('image_id').T.to_dict('list')\n",
    "test_dict = df_test.set_index('image_id').T.to_dict('list')\n",
    "\n",
    "def identify_train_val_and_test_rows(x):\n",
    "    if str(x) in val_dict:\n",
    "        return 'val'\n",
    "    elif str(x) in test_dict:\n",
    "        return 'test'\n",
    "    else:\n",
    "        return 'train'\n",
    "\n",
    "# create a new colum that is a copy of the image_id column\n",
    "df_data['train_or_val_or_test'] = df_data['image_id']\n",
    "# apply the function to this new column\n",
    "df_data['train_or_val_or_test'] = df_data['train_or_val_or_test'].apply(identify_train_val_and_test_rows)\n",
    "   \n",
    "# filter out train rows\n",
    "df_train = df_data[df_data['train_or_val_or_test'] == 'train']\n",
    "\n",
    "print('Train:', len(df_train))\n",
    "print('Valid:', len(df_val))\n",
    "print('Test:', len(df_test))\n",
    "df_data.head()"
   ]
  },
  {
   "cell_type": "code",
   "execution_count": null,
   "id": "00e952fc",
   "metadata": {
    "execution": {
     "iopub.execute_input": "2022-11-22T07:16:27.237062Z",
     "iopub.status.busy": "2022-11-22T07:16:27.235330Z",
     "iopub.status.idle": "2022-11-22T07:16:27.745488Z",
     "shell.execute_reply": "2022-11-22T07:16:27.744447Z"
    },
    "papermill": {
     "duration": 0.523426,
     "end_time": "2022-11-22T07:16:27.747906",
     "exception": false,
     "start_time": "2022-11-22T07:16:27.224480",
     "status": "completed"
    },
    "tags": []
   },
   "outputs": [],
   "source": [
    "sns.countplot(x=df_train['target']).set_title('Train Class Distributions')"
   ]
  },
  {
   "cell_type": "code",
   "execution_count": null,
   "id": "027ed436",
   "metadata": {
    "execution": {
     "iopub.execute_input": "2022-11-22T07:16:27.771039Z",
     "iopub.status.busy": "2022-11-22T07:16:27.770018Z",
     "iopub.status.idle": "2022-11-22T07:16:27.792740Z",
     "shell.execute_reply": "2022-11-22T07:16:27.791755Z"
    },
    "papermill": {
     "duration": 0.036746,
     "end_time": "2022-11-22T07:16:27.795181",
     "exception": false,
     "start_time": "2022-11-22T07:16:27.758435",
     "status": "completed"
    },
    "tags": []
   },
   "outputs": [],
   "source": [
    "# Set the image_id as the index in df_data\n",
    "df_data.set_index('image_id', inplace=True)\n",
    "og_train = df_train.copy()\n",
    "df_data.head()"
   ]
  },
  {
   "cell_type": "markdown",
   "id": "08eb770a",
   "metadata": {
    "papermill": {
     "duration": 0.009716,
     "end_time": "2022-11-22T07:16:27.815123",
     "exception": false,
     "start_time": "2022-11-22T07:16:27.805407",
     "status": "completed"
    },
    "tags": []
   },
   "source": [
    "# Augmentation"
   ]
  },
  {
   "cell_type": "code",
   "execution_count": null,
   "id": "bb0f7c69",
   "metadata": {
    "execution": {
     "iopub.execute_input": "2022-11-22T07:16:27.837798Z",
     "iopub.status.busy": "2022-11-22T07:16:27.837454Z",
     "iopub.status.idle": "2022-11-22T07:34:50.256790Z",
     "shell.execute_reply": "2022-11-22T07:34:50.255203Z"
    },
    "papermill": {
     "duration": 1102.445083,
     "end_time": "2022-11-22T07:34:50.270586",
     "exception": false,
     "start_time": "2022-11-22T07:16:27.825503",
     "status": "completed"
    },
    "tags": []
   },
   "outputs": [],
   "source": [
    "from keras.preprocessing.image import ImageDataGenerator\n",
    "\n",
    "image_size = 100\n",
    "\n",
    "# create temporary directories here and delete these directories later\n",
    "aug_dir = '/kaggle/working/aug_dir'\n",
    "if os.path.exists(aug_dir) == False:\n",
    "  os.mkdir(aug_dir)\n",
    "# create a dir within the base dir to store images of the same class\n",
    "img_dir = os.path.join(aug_dir, 'img_dir')\n",
    "\n",
    "if os.path.exists(img_dir) == False:\n",
    "  os.mkdir(img_dir)\n",
    "\n",
    "img_dir = os.path.join(str(img_dir) + '/1')\n",
    "\n",
    "# list all images in that directory\n",
    "if os.path.exists(img_dir) == False:\n",
    "    os.mkdir(img_dir)\n",
    "\n",
    "df_train_c1 = og_train.loc[og_train['target'] == '1']\n",
    "\n",
    "# point to a dir containing the images and not to the images themselves\n",
    "\n",
    "# create a data generator\n",
    "datagen = ImageDataGenerator(\n",
    "    rotation_range=180,\n",
    "    width_shift_range=0.125,\n",
    "    height_shift_range=0.125,\n",
    "    zoom_range=[1.2, 1.325],\n",
    "    fill_mode='reflect'\n",
    ")\n",
    "\n",
    "batch_size = 25\n",
    "aug_datagen = datagen.flow_from_dataframe(dataframe=df_train_c1,\n",
    "                                          x_col='image_id',\n",
    "                                          y_col='target',\n",
    "                                          target_size=(image_size, image_size),\n",
    "                                          batch_size=batch_size,\n",
    "                                          save_to_dir=img_dir,\n",
    "                                          save_foramt='jpg'\n",
    ")\n",
    "\n",
    "# generate the augmented images and add them to the folder of all images\n",
    "\n",
    "neg_images = og_train.loc[og_train['target'] == '0']\n",
    "\n",
    "num_aug_images_wanted = len(neg_images) # total number of images wanted in each class\n",
    "\n",
    "# num_files = len(os.listdir(img_dir))\n",
    "# num_files = num of existing classes of 1\n",
    "num_files = len(og_train.loc[og_train['target'] == '1'])\n",
    "# num_batches is the number of needed images - the existing 1s divided by the batch_size\n",
    "num_batches = int(np.ceil((num_aug_images_wanted-num_files)/batch_size))\n",
    "\n",
    "for i in range(0, num_batches):\n",
    "  next(aug_datagen)\n",
    "\n",
    "print(\"finished generation\")"
   ]
  },
  {
   "cell_type": "code",
   "execution_count": null,
   "id": "7addcb68",
   "metadata": {
    "execution": {
     "iopub.execute_input": "2022-11-22T07:34:50.293274Z",
     "iopub.status.busy": "2022-11-22T07:34:50.292944Z",
     "iopub.status.idle": "2022-11-22T07:34:50.395549Z",
     "shell.execute_reply": "2022-11-22T07:34:50.393950Z"
    },
    "papermill": {
     "duration": 0.116305,
     "end_time": "2022-11-22T07:34:50.397784",
     "exception": false,
     "start_time": "2022-11-22T07:34:50.281479",
     "status": "completed"
    },
    "tags": []
   },
   "outputs": [],
   "source": [
    "# Check how many train images\n",
    "print('Train Total:', len(og_train.loc[og_train['target'] == '0', 'image_id'])+ len(og_train.loc[og_train['target'] == '1', 'image_id']))\n",
    "print('Train Positive:', len(og_train.loc[og_train['target'] == '1']))\n",
    "print('Train Negative:', len(og_train.loc[og_train['target']== '0']))"
   ]
  },
  {
   "cell_type": "code",
   "execution_count": null,
   "id": "34fbf159",
   "metadata": {
    "execution": {
     "iopub.execute_input": "2022-11-22T07:34:50.425237Z",
     "iopub.status.busy": "2022-11-22T07:34:50.424864Z",
     "iopub.status.idle": "2022-11-22T07:34:50.570564Z",
     "shell.execute_reply": "2022-11-22T07:34:50.569554Z"
    },
    "papermill": {
     "duration": 0.163512,
     "end_time": "2022-11-22T07:34:50.572997",
     "exception": false,
     "start_time": "2022-11-22T07:34:50.409485",
     "status": "completed"
    },
    "tags": []
   },
   "outputs": [],
   "source": [
    "aug_images_list = os.listdir(\"/kaggle/working/aug_dir/img_dir/1\")\n",
    "aug_images_df = pd.DataFrame(aug_images_list, columns=['image_id'])\n",
    "aug_images_df['image_id'] = aug_images_df['image_id'].apply(lambda x: str(\"/kaggle/working/aug_dir/img_dir/1/\") + x)\n",
    "aug_images_df.insert(1, 'target', '1')\n",
    "aug_images_df.insert(2, 'train_or_val_or_test', 'train')\n",
    "aug_images_df.insert(3, 'patient_id', '0')\n",
    "aug_images_df.set_index('image_id')\n",
    "\n",
    "final_df_train = og_train.append(aug_images_df)"
   ]
  },
  {
   "cell_type": "code",
   "execution_count": null,
   "id": "0aa200b3",
   "metadata": {
    "execution": {
     "iopub.execute_input": "2022-11-22T07:34:50.594810Z",
     "iopub.status.busy": "2022-11-22T07:34:50.594494Z",
     "iopub.status.idle": "2022-11-22T07:34:50.608295Z",
     "shell.execute_reply": "2022-11-22T07:34:50.607459Z"
    },
    "papermill": {
     "duration": 0.026959,
     "end_time": "2022-11-22T07:34:50.610398",
     "exception": false,
     "start_time": "2022-11-22T07:34:50.583439",
     "status": "completed"
    },
    "tags": []
   },
   "outputs": [],
   "source": [
    "aug_images_df.head()"
   ]
  },
  {
   "cell_type": "code",
   "execution_count": null,
   "id": "54400500",
   "metadata": {
    "execution": {
     "iopub.execute_input": "2022-11-22T07:34:50.631741Z",
     "iopub.status.busy": "2022-11-22T07:34:50.631437Z",
     "iopub.status.idle": "2022-11-22T07:34:50.636297Z",
     "shell.execute_reply": "2022-11-22T07:34:50.635332Z"
    },
    "papermill": {
     "duration": 0.018829,
     "end_time": "2022-11-22T07:34:50.639409",
     "exception": false,
     "start_time": "2022-11-22T07:34:50.620580",
     "status": "completed"
    },
    "tags": []
   },
   "outputs": [],
   "source": [
    "print(len(final_df_train))"
   ]
  },
  {
   "cell_type": "code",
   "execution_count": null,
   "id": "419e653b",
   "metadata": {
    "execution": {
     "iopub.execute_input": "2022-11-22T07:34:50.662306Z",
     "iopub.status.busy": "2022-11-22T07:34:50.662025Z",
     "iopub.status.idle": "2022-11-22T07:34:51.076084Z",
     "shell.execute_reply": "2022-11-22T07:34:51.075165Z"
    },
    "papermill": {
     "duration": 0.427839,
     "end_time": "2022-11-22T07:34:51.078325",
     "exception": false,
     "start_time": "2022-11-22T07:34:50.650486",
     "status": "completed"
    },
    "tags": []
   },
   "outputs": [],
   "source": [
    "sns.countplot(x=final_df_train['target']).set_title('Train Class Distributions')"
   ]
  },
  {
   "cell_type": "code",
   "execution_count": null,
   "id": "1586d94e",
   "metadata": {
    "execution": {
     "iopub.execute_input": "2022-11-22T07:34:51.100405Z",
     "iopub.status.busy": "2022-11-22T07:34:51.099838Z",
     "iopub.status.idle": "2022-11-22T07:34:51.105198Z",
     "shell.execute_reply": "2022-11-22T07:34:51.104160Z"
    },
    "papermill": {
     "duration": 0.018482,
     "end_time": "2022-11-22T07:34:51.107207",
     "exception": false,
     "start_time": "2022-11-22T07:34:51.088725",
     "status": "completed"
    },
    "tags": []
   },
   "outputs": [],
   "source": [
    "num_train_samples = len(final_df_train)\n",
    "num_val_samples = len(df_val)\n",
    "\n",
    "train_batch_size = 500\n",
    "val_batch_size = 500\n",
    "\n",
    "train_steps = np.ceil(num_train_samples / train_batch_size)\n",
    "val_steps = np.ceil(num_val_samples / val_batch_size)"
   ]
  },
  {
   "cell_type": "code",
   "execution_count": null,
   "id": "87b43806",
   "metadata": {
    "execution": {
     "iopub.execute_input": "2022-11-22T07:34:51.128839Z",
     "iopub.status.busy": "2022-11-22T07:34:51.128547Z",
     "iopub.status.idle": "2022-11-22T07:40:40.114776Z",
     "shell.execute_reply": "2022-11-22T07:40:40.113078Z"
    },
    "papermill": {
     "duration": 348.999463,
     "end_time": "2022-11-22T07:40:40.117234",
     "exception": false,
     "start_time": "2022-11-22T07:34:51.117771",
     "status": "completed"
    },
    "tags": []
   },
   "outputs": [],
   "source": [
    "datagen = ImageDataGenerator(preprocessing_function=keras.applications.inception_v3.preprocess_input, \n",
    "                             horizontal_flip=True,\n",
    "                             vertical_flip=True)\n",
    "\n",
    "train_batches_bench = datagen.flow_from_dataframe(final_df_train, \n",
    "                                                  target_size=(image_size, image_size),\n",
    "                                                  batch_size=train_batch_size,\n",
    "                                                  x_col='image_id',\n",
    "                                                  y_col='target')\n",
    "\n",
    "valid_batches_bench = datagen.flow_from_dataframe(df_val, \n",
    "                                                  target_size=(image_size, image_size),\n",
    "                                                  batch_size=val_batch_size,\n",
    "                                                  x_col='image_id',\n",
    "                                                  y_col='target')\n",
    "\n",
    "test_batches_bench = datagen.flow_from_dataframe(df_test,\n",
    "                                                 target_size=(image_size, image_size),\n",
    "                                                 batch_size=1,\n",
    "                                                 shuffle=False,\n",
    "                                                 x_col='image_id',\n",
    "                                                 y_col='target')"
   ]
  },
  {
   "cell_type": "code",
   "execution_count": null,
   "id": "18c27677",
   "metadata": {
    "execution": {
     "iopub.execute_input": "2022-11-22T07:40:40.142430Z",
     "iopub.status.busy": "2022-11-22T07:40:40.142065Z",
     "iopub.status.idle": "2022-11-22T07:40:43.977671Z",
     "shell.execute_reply": "2022-11-22T07:40:43.976649Z"
    },
    "papermill": {
     "duration": 3.851439,
     "end_time": "2022-11-22T07:40:43.980840",
     "exception": false,
     "start_time": "2022-11-22T07:40:40.129401",
     "status": "completed"
    },
    "tags": []
   },
   "outputs": [],
   "source": [
    "from tensorflow.keras.applications.vgg16 import VGG16\n",
    "vgg = tf.keras.applications.vgg16.VGG16(\n",
    "    include_top=False,\t\t\t# We do not want the classifier on top of the VGG19, we will use our own classifier\n",
    "    weights=None,\t\t\t# We want the imagenet weights\n",
    "    input_shape=(image_size, image_size, 3)\t# The input shape is 100, 100, 3 (RGB)\n",
    ")"
   ]
  },
  {
   "cell_type": "code",
   "execution_count": null,
   "id": "7fb1a5f2",
   "metadata": {
    "execution": {
     "iopub.execute_input": "2022-11-22T07:40:44.004382Z",
     "iopub.status.busy": "2022-11-22T07:40:44.004066Z",
     "iopub.status.idle": "2022-11-22T07:40:44.028604Z",
     "shell.execute_reply": "2022-11-22T07:40:44.027637Z"
    },
    "papermill": {
     "duration": 0.039009,
     "end_time": "2022-11-22T07:40:44.030922",
     "exception": false,
     "start_time": "2022-11-22T07:40:43.991913",
     "status": "completed"
    },
    "tags": []
   },
   "outputs": [],
   "source": [
    "x = tf.keras.layers.Flatten()(vgg.output)  # One flatten layer\n",
    "prediction = tf.keras.layers.Dense(2, activation='softmax')(x) # one softmax layer\n",
    "model = tf.keras.Model(inputs=vgg.input, outputs=prediction)   # Final Model\n",
    "model.summary()"
   ]
  },
  {
   "cell_type": "code",
   "execution_count": null,
   "id": "d9c1cbd7",
   "metadata": {
    "execution": {
     "iopub.execute_input": "2022-11-22T07:40:44.054015Z",
     "iopub.status.busy": "2022-11-22T07:40:44.053739Z",
     "iopub.status.idle": "2022-11-22T16:19:33.478003Z",
     "shell.execute_reply": "2022-11-22T16:19:33.476911Z"
    },
    "papermill": {
     "duration": 31129.443073,
     "end_time": "2022-11-22T16:19:33.485058",
     "exception": false,
     "start_time": "2022-11-22T07:40:44.041985",
     "status": "completed"
    },
    "tags": []
   },
   "outputs": [],
   "source": [
    "# This needs to be checked\n",
    "# We need to know which data to be added exactly. We want the Image Data Generator function but without any agumentation (for now)\n",
    "# did not have time to check exactly how. \n",
    "# Try to compare with the paper stuff. Hopefully we will be able to find something.\n",
    "from tensorflow.keras.callbacks import ModelCheckpoint\n",
    "model_checkpoint = ModelCheckpoint(filepath='breast_histopathology_baseline_AUG_origin_binarySGD.hdf5', verbose=1, save_best_only=True)\n",
    "\n",
    "class_weights={\n",
    "    0: 1.0, # negative\n",
    "    1: 1.0, # postive \n",
    "    # make model more sensitive to positive class if necessary\n",
    "}\n",
    "\n",
    "# using RMSProp optimizer as it  is the best optimizers according to this paper:\n",
    "# https://www.sciencedirect.com/science/article/pii/S2214785321013316\n",
    "model.compile(loss='binary_crossentropy', optimizer='adam', metrics=['accuracy']) \n",
    "history = model.fit(train_batches_bench, \n",
    "\t\t\t\t\tsteps_per_epoch=train_steps, \n",
    "\t\t\t\t\tclass_weight=class_weights,\n",
    "\t\t\t\t\tvalidation_data=valid_batches_bench,\n",
    "\t\t\t\t\tvalidation_steps=val_steps,\n",
    "\t\t\t\t\tcallbacks=[model_checkpoint], \n",
    "\t\t\t\t\tepochs=24, \n",
    "\t\t\t\t\tverbose=2)"
   ]
  },
  {
   "cell_type": "code",
   "execution_count": null,
   "id": "b5eafed3",
   "metadata": {
    "execution": {
     "iopub.execute_input": "2022-11-22T16:19:33.534199Z",
     "iopub.status.busy": "2022-11-22T16:19:33.533799Z",
     "iopub.status.idle": "2022-11-22T16:19:33.930151Z",
     "shell.execute_reply": "2022-11-22T16:19:33.929320Z"
    },
    "papermill": {
     "duration": 0.424528,
     "end_time": "2022-11-22T16:19:33.932986",
     "exception": false,
     "start_time": "2022-11-22T16:19:33.508458",
     "status": "completed"
    },
    "tags": []
   },
   "outputs": [],
   "source": [
    "import matplotlib.pyplot as plt\n",
    "training_acc = history.history['accuracy']\n",
    "val_acc = history.history['val_accuracy']\n",
    "\n",
    "epoch_count = range(1, 25)\n",
    "\n",
    "plt.figure()\n",
    "plt.plot(epoch_count, training_acc, 'r--')\n",
    "plt.plot(epoch_count, val_acc, 'b-')\n",
    "plt.legend(['Training Acc', 'Validation Acc'])\n",
    "plt.xlabel('Epoch')\n",
    "plt.ylabel('Accuracy')\n",
    "plt.savefig(\"../vgg19_baseline_model_AUG_origin_binarySGD.png\")\n",
    "plt.show()"
   ]
  },
  {
   "cell_type": "code",
   "execution_count": null,
   "id": "413f4c90",
   "metadata": {
    "execution": {
     "iopub.execute_input": "2022-11-22T16:19:33.979639Z",
     "iopub.status.busy": "2022-11-22T16:19:33.979289Z",
     "iopub.status.idle": "2022-11-22T16:19:34.384172Z",
     "shell.execute_reply": "2022-11-22T16:19:34.383195Z"
    },
    "papermill": {
     "duration": 0.430394,
     "end_time": "2022-11-22T16:19:34.386565",
     "exception": false,
     "start_time": "2022-11-22T16:19:33.956171",
     "status": "completed"
    },
    "tags": []
   },
   "outputs": [],
   "source": [
    "# Load Weights of the Baseline Model\n",
    "model.load_weights('breast_histopathology_baseline_AUG_origin_binarySGD.hdf5')"
   ]
  },
  {
   "cell_type": "code",
   "execution_count": null,
   "id": "e3b29022",
   "metadata": {
    "execution": {
     "iopub.execute_input": "2022-11-22T16:19:34.417261Z",
     "iopub.status.busy": "2022-11-22T16:19:34.416439Z",
     "iopub.status.idle": "2022-11-22T16:21:03.409125Z",
     "shell.execute_reply": "2022-11-22T16:21:03.408196Z"
    },
    "papermill": {
     "duration": 89.010241,
     "end_time": "2022-11-22T16:21:03.411478",
     "exception": false,
     "start_time": "2022-11-22T16:19:34.401237",
     "status": "completed"
    },
    "tags": []
   },
   "outputs": [],
   "source": [
    "# Test Predictions\n",
    "preds = model.predict_generator(test_batches_bench, steps=len(df_test), verbose=1)"
   ]
  },
  {
   "cell_type": "code",
   "execution_count": null,
   "id": "d2a882e2",
   "metadata": {
    "execution": {
     "iopub.execute_input": "2022-11-22T16:21:03.604937Z",
     "iopub.status.busy": "2022-11-22T16:21:03.604250Z",
     "iopub.status.idle": "2022-11-22T16:21:03.634382Z",
     "shell.execute_reply": "2022-11-22T16:21:03.633137Z"
    },
    "papermill": {
     "duration": 0.128731,
     "end_time": "2022-11-22T16:21:03.636380",
     "exception": false,
     "start_time": "2022-11-22T16:21:03.507649",
     "status": "completed"
    },
    "tags": []
   },
   "outputs": [],
   "source": [
    "# Accuracy using the baseline model\n",
    "from sklearn.metrics import accuracy_score\n",
    "from sklearn.metrics import balanced_accuracy_score\n",
    "# Take the highest probability scores to get index of predictions for test images\n",
    "y_pred = np.argmax(preds, axis=1)\n",
    "\n",
    "# Get labels of test images\n",
    "y_true = test_batches_bench.classes\n",
    "\n",
    "# Evaluate\n",
    "print(f'Accuracy: {accuracy_score(y_true, y_pred):1.3f}%')\n",
    "\n",
    "print(f'Balanced Accuracy: {balanced_accuracy_score(y_true, y_pred):1.3f}%')\n",
    "# Balanced accuracy is calculated as the average of the proportion correct of each class individually\n",
    "\n",
    "f = open(\"../testOutput_AUG_origin_binarySGD.txt\", \"w\")\n",
    "f.write(f'Accuracy: {accuracy_score(y_true, y_pred):1.3f}%\\n')\n",
    "f.write(f'Balanced Accuracy: {balanced_accuracy_score(y_true, y_pred):1.3f}%\\n')\n",
    "f.close()"
   ]
  },
  {
   "cell_type": "code",
   "execution_count": null,
   "id": "d88ba994",
   "metadata": {
    "execution": {
     "iopub.execute_input": "2022-11-22T16:21:03.825998Z",
     "iopub.status.busy": "2022-11-22T16:21:03.825691Z",
     "iopub.status.idle": "2022-11-22T16:21:04.109099Z",
     "shell.execute_reply": "2022-11-22T16:21:04.108045Z"
    },
    "papermill": {
     "duration": 0.380315,
     "end_time": "2022-11-22T16:21:04.111259",
     "exception": false,
     "start_time": "2022-11-22T16:21:03.730944",
     "status": "completed"
    },
    "tags": []
   },
   "outputs": [],
   "source": [
    "# Confusion matrix for the baseline model\n",
    "from sklearn.metrics import confusion_matrix\n",
    "\n",
    "conf_matrix = confusion_matrix(y_true, y_pred)\n",
    "plt.imshow(conf_matrix, interpolation='nearest', cmap='viridis')\n",
    "plt.title('Confusion matrix')\n",
    "plt.colorbar()\n",
    "tick_marks = np.arange(len(['negative', 'positive']))\n",
    "plt.xticks(tick_marks, ['negative', 'positive'])\n",
    "plt.yticks(tick_marks, ['negative', 'positive'])\n",
    "plt.ylabel('True label')\n",
    "plt.xlabel('Predicted label')\n",
    "plt.tight_layout()\n",
    "plt.savefig(\"../vgg19-baseline-model-confusion-matrix-AUG_origin_binarySGD.png\")"
   ]
  },
  {
   "cell_type": "code",
   "execution_count": null,
   "id": "7d4cb487",
   "metadata": {
    "execution": {
     "iopub.execute_input": "2022-11-22T16:21:04.301285Z",
     "iopub.status.busy": "2022-11-22T16:21:04.300961Z",
     "iopub.status.idle": "2022-11-22T16:21:04.313170Z",
     "shell.execute_reply": "2022-11-22T16:21:04.312112Z"
    },
    "papermill": {
     "duration": 0.110139,
     "end_time": "2022-11-22T16:21:04.315396",
     "exception": false,
     "start_time": "2022-11-22T16:21:04.205257",
     "status": "completed"
    },
    "tags": []
   },
   "outputs": [],
   "source": [
    "confusionmatrix = confusion_matrix(y_true, y_pred)\n",
    "\n",
    "f = open(\"../testOutput_AUG_origin_binarySGD.txt\", \"a\")\n",
    "f.write(f'Confusion matrix: {confusionmatrix}\\n')\n",
    "f.close()\n",
    "\n",
    "confusionmatrix"
   ]
  },
  {
   "cell_type": "code",
   "execution_count": null,
   "id": "eddcbf2e",
   "metadata": {
    "execution": {
     "iopub.execute_input": "2022-11-22T16:21:04.506407Z",
     "iopub.status.busy": "2022-11-22T16:21:04.506083Z",
     "iopub.status.idle": "2022-11-22T16:21:04.530522Z",
     "shell.execute_reply": "2022-11-22T16:21:04.529075Z"
    },
    "papermill": {
     "duration": 0.121725,
     "end_time": "2022-11-22T16:21:04.532632",
     "exception": false,
     "start_time": "2022-11-22T16:21:04.410907",
     "status": "completed"
    },
    "tags": []
   },
   "outputs": [],
   "source": [
    "from sklearn.metrics import classification_report\n",
    "report = classification_report(y_true=y_true, y_pred=y_pred, target_names=['negative', 'positive'])\n",
    "\n",
    "f = open(\"../testOutput_AUG_origin_binarySGD.txt\", \"a\")\n",
    "f.write(f'REPORT:\\n {report}\\n')\n",
    "f.close()\n",
    "\n",
    "print(report)"
   ]
  },
  {
   "cell_type": "code",
   "execution_count": null,
   "id": "e9e91be8",
   "metadata": {
    "execution": {
     "iopub.execute_input": "2022-11-22T16:21:04.723471Z",
     "iopub.status.busy": "2022-11-22T16:21:04.723170Z",
     "iopub.status.idle": "2022-11-22T16:21:06.994952Z",
     "shell.execute_reply": "2022-11-22T16:21:06.994081Z"
    },
    "papermill": {
     "duration": 2.374079,
     "end_time": "2022-11-22T16:21:07.001026",
     "exception": false,
     "start_time": "2022-11-22T16:21:04.626947",
     "status": "completed"
    },
    "tags": []
   },
   "outputs": [],
   "source": [
    "x, y = valid_batches_bench.next()\n",
    "\n",
    "for i in range(1,10):\n",
    "  \n",
    "  image = x[i]\n",
    "  label = y[i]\n",
    "#   f = open(\"../testOutput_AUG.txt\", \"a\")\n",
    "  if np.argmax(label, axis=0) == 0:\n",
    "      print('IDC negative')\n",
    "#       f.write(f'IDC negative\\n')\n",
    "  if np.argmax(label, axis=0) == 1:\n",
    "    print('IDC positive')\n",
    "#     f.write(f'IDC positive\\n')\n",
    "\n",
    "#   print(image.shape)\n",
    "#   prob = model.predict(image)\n",
    "#   for a in prob:\n",
    "#     for b in a:\n",
    "#       print(f'Predicted Negative Probability: {(b*100):1.2f}%')\n",
    "#       print(f'Predicted Positive Probability: {(1-b)*100:1.2f}%')\n",
    "#       f.write(f'Predicted Negative Probability: {(b*100):1.2f}%\\n')\n",
    "#       f.write(f'Predicted Positive Probability: {(1-b)*100:1.2f}%\\n')\n",
    "#       break\n",
    "\n",
    "  plt.imshow(image)\n",
    "#   f.write(image)\n",
    "  plt.show()\n",
    "#   f.close()"
   ]
  },
  {
   "cell_type": "code",
   "execution_count": null,
   "id": "7b69c542",
   "metadata": {
    "papermill": {
     "duration": 0.172305,
     "end_time": "2022-11-22T16:21:07.330648",
     "exception": false,
     "start_time": "2022-11-22T16:21:07.158343",
     "status": "completed"
    },
    "tags": []
   },
   "outputs": [],
   "source": []
  }
 ],
 "metadata": {
  "kernelspec": {
   "display_name": "Python 3.10.8 64-bit (microsoft store)",
   "language": "python",
   "name": "python3"
  },
  "language_info": {
   "codemirror_mode": {
    "name": "ipython",
    "version": 3
   },
   "file_extension": ".py",
   "mimetype": "text/x-python",
   "name": "python",
   "nbconvert_exporter": "python",
   "pygments_lexer": "ipython3",
   "version": "3.10.8"
  },
  "papermill": {
   "default_parameters": {},
   "duration": 33001.923475,
   "end_time": "2022-11-22T16:21:10.609501",
   "environment_variables": {},
   "exception": null,
   "input_path": "__notebook__.ipynb",
   "output_path": "__notebook__.ipynb",
   "parameters": {},
   "start_time": "2022-11-22T07:11:08.686026",
   "version": "2.3.4"
  },
  "vscode": {
   "interpreter": {
    "hash": "3b7e9cb8e453d6cda0fe8c8dd13f891a1f09162f0e7c66ffeae7751a7aecf00d"
   }
  }
 },
 "nbformat": 4,
 "nbformat_minor": 5
}
